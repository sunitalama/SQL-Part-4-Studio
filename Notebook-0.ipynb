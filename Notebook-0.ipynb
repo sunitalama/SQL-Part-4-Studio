{
    "metadata": {
        "kernelspec": {
            "name": "SQL",
            "display_name": "SQL",
            "language": "sql"
        },
        "language_info": {
            "name": "sql",
            "version": ""
        },
        "extensions": {
            "azuredatastudio": {
                "version": 1,
                "views": []
            }
        }
    },
    "nbformat_minor": 2,
    "nbformat": 4,
    "cells": [
        {
            "cell_type": "markdown",
            "source": [
                "# SQL Part 4 Studio\n",
                "\n",
                "For this studio, you will be working in small groups and using the BooksDB.  One group member should screen share while fellow group members code along in their own notebooks.  Each group member will submit a link to their studio notebook.\n",
                "\n",
                "You are back at the bookstore helping employees with their inventory of books.   Four employees need your help with finding books to create in-store displays.  Read their requests and decide if you want to use a correlated subquery, nested subquery, UNION operator, EXCEPT operator, or INTERSECT operator.  You may not use any joins or add multiple statements to the WHERE clause unless explicitly asked."
            ],
            "metadata": {
                "azdata_cell_guid": "3ea3f8a2-b444-4354-be8b-eebc139b3c13"
            },
            "attachments": {}
        },
        {
            "cell_type": "markdown",
            "source": [
                "## QUESTION 1:  Willow\n",
                "\n",
                "Willow wants a list of book titles that have multiple authors attributed to them.  Write a query to return her desired results."
            ],
            "metadata": {
                "azdata_cell_guid": "5c8b1c77-0878-4dc6-8e79-7f64e5e1df0d"
            },
            "attachments": {}
        },
        {
            "cell_type": "code",
            "source": [
                "-- Code here:\r\n",
                "SELECT top 5 b.authors,b.title \r\n",
                "FROM BooksDB.dbo.books AS b\r\n",
                "WHERE authors IN\r\n",
                "  ( SELECT b.authors\r\n",
                "     WHERE authors like '%, %')\r\n",
                ""
            ],
            "metadata": {
                "azdata_cell_guid": "46c76d2f-acbc-4fd2-9c2a-367044fda616",
                "tags": [],
                "language": "sql"
            },
            "outputs": [
                {
                    "output_type": "display_data",
                    "data": {
                        "text/html": "(5 rows affected)"
                    },
                    "metadata": {}
                },
                {
                    "output_type": "display_data",
                    "data": {
                        "text/html": "Total execution time: 00:00:00.063"
                    },
                    "metadata": {}
                },
                {
                    "output_type": "execute_result",
                    "execution_count": 1,
                    "data": {
                        "application/vnd.dataresource+json": {
                            "schema": {
                                "fields": [
                                    {
                                        "name": "authors"
                                    },
                                    {
                                        "name": "title"
                                    }
                                ]
                            },
                            "data": [
                                {
                                    "0": "J.K. Rowling, Mary GrandPré",
                                    "1": "Harry Potter and the Sorcerer's Stone (Harry Potter, #1)"
                                },
                                {
                                    "0": "George Orwell, Erich Fromm, Celâl Üster",
                                    "1": "1984"
                                },
                                {
                                    "0": "Anne Frank, Eleanor Roosevelt, B.M. Mooyaart-Doubleday",
                                    "1": "The Diary of a Young Girl"
                                },
                                {
                                    "0": "Stieg Larsson, Reg Keeland",
                                    "1": "The Girl with the Dragon Tattoo (Millennium, #1)"
                                },
                                {
                                    "0": "J.K. Rowling, Mary GrandPré, Rufus Beck",
                                    "1": "Harry Potter and the Prisoner of Azkaban (Harry Potter, #3)"
                                }
                            ]
                        },
                        "text/html": "<table><tr><th>authors</th><th>title</th></tr><tr><td>J.K. Rowling, Mary GrandPré</td><td>Harry Potter and the Sorcerer's Stone (Harry Potter, #1)</td></tr><tr><td>George Orwell, Erich Fromm, Celâl Üster</td><td>1984</td></tr><tr><td>Anne Frank, Eleanor Roosevelt, B.M. Mooyaart-Doubleday</td><td>The Diary of a Young Girl</td></tr><tr><td>Stieg Larsson, Reg Keeland</td><td>The Girl with the Dragon Tattoo (Millennium, #1)</td></tr><tr><td>J.K. Rowling, Mary GrandPré, Rufus Beck</td><td>Harry Potter and the Prisoner of Azkaban (Harry Potter, #3)</td></tr></table>"
                    },
                    "metadata": {}
                }
            ],
            "execution_count": 1
        },
        {
            "cell_type": "markdown",
            "source": [
                "## QUESTION 2: Ira\n",
                "\n",
                "Ira was asked by a customer for titles that have been tagged \"Meditation\".  As you create a query for Ira, think about how the tables in BooksDB are organized as you write your query."
            ],
            "metadata": {
                "azdata_cell_guid": "06f2a08a-a54e-484e-8053-c74594da9db2"
            },
            "attachments": {}
        },
        {
            "cell_type": "code",
            "source": [
                "-- Code here:\n",
                "\r\n",
                "SELECT top 10  b.title \r\n",
                "FROM BooksDB.dbo.books AS b\r\n",
                "JOIN BooksDB.dbo.book_tags AS bt\r\n",
                "ON b.best_book_id = bt.goodreads_book_id\r\n",
                "UNION\r\n",
                "SELECT  t.tag_name\r\n",
                "FROM BooksDB.dbo.tags AS t\r\n",
                "JOIN BooksDB.dbo.book_tags AS bt\r\n",
                "ON bt.tag_id = t.tag_id\r\n",
                "WHERE t.tag_name LIKE 'Meditation'\r\n",
                " "
            ],
            "metadata": {
                "azdata_cell_guid": "552924f9-a1cc-4979-8f53-15ba959550c2",
                "tags": [],
                "language": "sql"
            },
            "outputs": [
                {
                    "output_type": "display_data",
                    "data": {
                        "text/html": "(2 rows affected)"
                    },
                    "metadata": {}
                },
                {
                    "output_type": "display_data",
                    "data": {
                        "text/html": "Total execution time: 00:00:01.620"
                    },
                    "metadata": {}
                },
                {
                    "output_type": "execute_result",
                    "execution_count": 2,
                    "data": {
                        "application/vnd.dataresource+json": {
                            "schema": {
                                "fields": [
                                    {
                                        "name": "title"
                                    }
                                ]
                            },
                            "data": [
                                {
                                    "0": "meditation"
                                },
                                {
                                    "0": "The Hunger Games (The Hunger Games, #1)"
                                }
                            ]
                        },
                        "text/html": "<table><tr><th>title</th></tr><tr><td>meditation</td></tr><tr><td>The Hunger Games (The Hunger Games, #1)</td></tr></table>"
                    },
                    "metadata": {}
                }
            ],
            "execution_count": 2
        },
        {
            "cell_type": "markdown",
            "source": [
                "## QUESTION 3:  Alyce\n",
                "\n",
                "Alyce wants to create a display of books with an average rating of 4.2 or higher, but she only wants books that share both title and original title.  Write a query that displays both the original title and title for Alyce, in descending order by rating.  Make sure that none of the original titles contain NULL values either."
            ],
            "metadata": {
                "azdata_cell_guid": "1d758d74-b4f0-4836-bdfe-d7280b5b4592"
            },
            "attachments": {}
        },
        {
            "cell_type": "code",
            "source": [
                "-- Code here:\n",
                "    SELECT title,average_rating \n",
                "    FROM BooksDB.dbo.books \n",
                "    WHERE average_rating >= 4.2 \n",
                "    INTERSECT\n",
                "    SELECT  original_title,average_rating \n",
                "    FROM BooksDB.dbo.books \n",
                "    WHERE average_rating >= 4.2 and original_title is NOT NULL\n",
                "    ORDER by average_rating DESC\n",
                "\n",
                "    \n",
                "\n",
                ""
            ],
            "metadata": {
                "azdata_cell_guid": "2c693b4e-6987-4c49-ba55-61094e677608",
                "tags": [],
                "language": "sql"
            },
            "outputs": [
                {
                    "output_type": "display_data",
                    "data": {
                        "text/html": "(658 rows affected)"
                    },
                    "metadata": {}
                },
                {
                    "output_type": "display_data",
                    "data": {
                        "text/html": "Total execution time: 00:00:00.307"
                    },
                    "metadata": {}
                },
                {
                    "output_type": "execute_result",
                    "execution_count": 11,
                    "data": {
                        "application/vnd.dataresource+json": {
                            "schema": {
                                "fields": [
                                    {
                                        "name": "title"
                                    },
                                    {
                                        "name": "average_rating"
                                    }
                                ]
                            },
                            "data": [
                                {
                                    "0": "The Complete Calvin and Hobbes",
                                    "1": "4.82"
                                },
                                {
                                    "0": "Mark of the Lion Trilogy",
                                    "1": "4.76"
                                },
                                {
                                    "0": "It's a Magical World: A Calvin and Hobbes Collection",
                                    "1": "4.75"
                                },
                                {
                                    "0": "There's Treasure Everywhere: A Calvin and Hobbes Collection",
                                    "1": "4.74"
                                },
                                {
                                    "0": "Harry Potter Collection (Harry Potter, #1-6)",
                                    "1": "4.73"
                                },
                                {
                                    "0": "Homicidal Psycho Jungle Cat: A Calvin and Hobbes Collection",
                                    "1": "4.71"
                                },
                                {
                                    "0": "The Days Are Just Packed: A Calvin and Hobbes Collection",
                                    "1": "4.68"
                                },
                                {
                                    "0": "The Calvin and Hobbes Lazy Sunday Book",
                                    "1": "4.66"
                                },
                                {
                                    "0": "The Absolute Sandman, Volume One",
                                    "1": "4.65"
                                },
                                {
                                    "0": "The Essential Calvin and Hobbes: A Calvin and Hobbes Treasury",
                                    "1": "4.65"
                                },
                                {
                                    "0": "The Calvin and Hobbes Tenth Anniversary Book",
                                    "1": "4.63"
                                },
                                {
                                    "0": "The Hate U Give",
                                    "1": "4.62"
                                },
                                {
                                    "0": "Calvin and Hobbes",
                                    "1": "4.61"
                                },
                                {
                                    "0": "Harry Potter and the Chamber of Secrets: Sheet Music for Flute with C.D",
                                    "1": "4.61"
                                },
                                {
                                    "0": "Holy Bible: New International Version",
                                    "1": "4.61"
                                },
                                {
                                    "0": "Standing for Something: 10 Neglected Virtues That Will Heal Our Hearts and Homes",
                                    "1": "4.61"
                                },
                                {
                                    "0": "The Sandman: King of Dreams",
                                    "1": "4.61"
                                },
                                {
                                    "0": "An Echo in the Darkness (Mark of the Lion, #2)",
                                    "1": "4.6"
                                },
                                {
                                    "0": "The Lord of the Rings: The Art of The Fellowship of the Ring",
                                    "1": "4.59"
                                },
                                {
                                    "0": "Just Mercy: A Story of Justice and Redemption",
                                    "1": "4.58"
                                },
                                {
                                    "0": "NARUTO -ナルト- 巻ノ四十三",
                                    "1": "4.57"
                                },
                                {
                                    "0": "Harry Potter Page to Screen: The Complete Filmmaking Journey",
                                    "1": "4.56"
                                },
                                {
                                    "0": "The Green Mile, Part 6: Coffey on the Mile",
                                    "1": "4.55"
                                },
                                {
                                    "0": "The Constitution of the United States of America",
                                    "1": "4.54"
                                },
                                {
                                    "0": "The Nightingale",
                                    "1": "4.54"
                                },
                                {
                                    "0": "Courageous",
                                    "1": "4.53"
                                },
                                {
                                    "0": "The Lord of the Rings: Weapons and Warfare",
                                    "1": "4.53"
                                },
                                {
                                    "0": "Thank You, Mr. Falker",
                                    "1": "4.52"
                                },
                                {
                                    "0": "The Green Mile, Part 4: The Bad Death of Eduard Delacroix",
                                    "1": "4.52"
                                },
                                {
                                    "0": "Believing Christ: The Parable of the Bicycle and Other Good News",
                                    "1": "4.51"
                                },
                                {
                                    "0": "The Green Mile, Part 5: Night Journey",
                                    "1": "4.51"
                                },
                                {
                                    "0": "Humans of New York: Stories",
                                    "1": "4.5"
                                },
                                {
                                    "0": "Locke & Key, Vol. 6: Alpha & Omega",
                                    "1": "4.5"
                                },
                                {
                                    "0": "The Complete Sherlock Holmes",
                                    "1": "4.5"
                                },
                                {
                                    "0": "The Green Mile, Part 3: Coffey's Hands",
                                    "1": "4.5"
                                },
                                {
                                    "0": "Kürk Mantolu Madonna",
                                    "1": "4.49"
                                },
                                {
                                    "0": "The Complete Works",
                                    "1": "4.49"
                                },
                                {
                                    "0": "The Green Mile, Part 1: The Two Dead Girls",
                                    "1": "4.49"
                                },
                                {
                                    "0": "The New Jim Crow: Mass Incarceration in the Age of Colorblindness",
                                    "1": "4.49"
                                },
                                {
                                    "0": "A Charlie Brown Christmas",
                                    "1": "4.48"
                                },
                                {
                                    "0": "Assata: An Autobiography",
                                    "1": "4.48"
                                },
                                {
                                    "0": "Evicted: Poverty and Profit in the American City",
                                    "1": "4.48"
                                },
                                {
                                    "0": "Harry Potter: Film Wizardry",
                                    "1": "4.48"
                                },
                                {
                                    "0": "On Food and Cooking: The Science and Lore of the Kitchen",
                                    "1": "4.48"
                                },
                                {
                                    "0": "The Chronicles of Narnia - The Lion, the Witch, and the Wardrobe Official Illustrated Movie Companion",
                                    "1": "4.48"
                                },
                                {
                                    "0": "Darkest Powers Trilogy (Darkest Powers, #1-3)",
                                    "1": "4.47"
                                },
                                {
                                    "0": "Ficciones",
                                    "1": "4.47"
                                },
                                {
                                    "0": "Finding Nemo",
                                    "1": "4.47"
                                },
                                {
                                    "0": "Fireproof",
                                    "1": "4.47"
                                },
                                {
                                    "0": "Hamilton: The Revolution",
                                    "1": "4.47"
                                },
                                {
                                    "0": "Lonesome Dove",
                                    "1": "4.47"
                                },
                                {
                                    "0": "The Coldest Winter Ever",
                                    "1": "4.47"
                                },
                                {
                                    "0": "The Green Mile, Part 2: The Mouse on the Mile",
                                    "1": "4.47"
                                },
                                {
                                    "0": "The Gruffalo",
                                    "1": "4.47"
                                },
                                {
                                    "0": "Tramp for the Lord",
                                    "1": "4.47"
                                },
                                {
                                    "0": "We Should All Be Feminists",
                                    "1": "4.47"
                                },
                                {
                                    "0": "Shoe Dog: A Memoir by the Creator of NIKE",
                                    "1": "4.46"
                                },
                                {
                                    "0": "The Complete Adventures of Peter Rabbit",
                                    "1": "4.46"
                                },
                                {
                                    "0": "Archer's Voice",
                                    "1": "4.45"
                                },
                                {
                                    "0": "Harry Potter and Philosophy: If Aristotle Ran Hogwarts",
                                    "1": "4.45"
                                },
                                {
                                    "0": "Lover Awakened (Black Dagger Brotherhood, #3)",
                                    "1": "4.45"
                                },
                                {
                                    "0": "Miss Rumphius",
                                    "1": "4.45"
                                },
                                {
                                    "0": "Praying God's Word: Breaking Free From Spiritual Strongholds",
                                    "1": "4.45"
                                },
                                {
                                    "0": "Sherlock Holmes: The Complete Novels and Stories, Volume I",
                                    "1": "4.45"
                                },
                                {
                                    "0": "The Far Side Gallery 3",
                                    "1": "4.45"
                                },
                                {
                                    "0": "The Fire Next Time",
                                    "1": "4.45"
                                },
                                {
                                    "0": "The Help",
                                    "1": "4.45"
                                },
                                {
                                    "0": "The Monster at the End of this Book",
                                    "1": "4.45"
                                },
                                {
                                    "0": "Wicked - Piano/Vocal Arrangement",
                                    "1": "4.45"
                                },
                                {
                                    "0": "Ignite Me (Shatter Me, #3)",
                                    "1": "4.44"
                                },
                                {
                                    "0": "It Ends with Us",
                                    "1": "4.44"
                                },
                                {
                                    "0": "Locke & Key, Vol. 4: Keys to the Kingdom",
                                    "1": "4.44"
                                },
                                {
                                    "0": "The Complete Stories",
                                    "1": "4.44"
                                },
                                {
                                    "0": "The Declaration of Independence and The Constitution of the United States",
                                    "1": "4.44"
                                },
                                {
                                    "0": "The Poetry of Pablo Neruda",
                                    "1": "4.44"
                                },
                                {
                                    "0": "Left to Tell: Discovering God Amidst the Rwandan Holocaust",
                                    "1": "4.43"
                                },
                                {
                                    "0": "The Wheel of Time: Boxed Set #1 (Wheel of Time, #1-3)",
                                    "1": "4.43"
                                },
                                {
                                    "0": "Wonder",
                                    "1": "4.43"
                                },
                                {
                                    "0": "رباعيات صلاح جاهين",
                                    "1": "4.43"
                                },
                                {
                                    "0": "Band of Brothers: E Company, 506th Regiment, 101st Airborne from Normandy to Hitler's Eagle's Nest",
                                    "1": "4.42"
                                },
                                {
                                    "0": "H.M.S. Surprise",
                                    "1": "4.42"
                                },
                                {
                                    "0": "Ina May's Guide to Childbirth",
                                    "1": "4.42"
                                },
                                {
                                    "0": "Nothing to Envy: Ordinary Lives in North Korea",
                                    "1": "4.42"
                                },
                                {
                                    "0": "The Far Side Gallery",
                                    "1": "4.42"
                                },
                                {
                                    "0": "The Green Mile",
                                    "1": "4.42"
                                },
                                {
                                    "0": "Fantastic Beasts and Where to Find Them: The Original Screenplay",
                                    "1": "4.41"
                                },
                                {
                                    "0": "Homegoing",
                                    "1": "4.41"
                                },
                                {
                                    "0": "November 9",
                                    "1": "4.41"
                                },
                                {
                                    "0": "Scott Pilgrim, Volume 6: Scott Pilgrim's Finest Hour",
                                    "1": "4.41"
                                },
                                {
                                    "0": "The Cat in the Hat and Other Dr. Seuss Favorites",
                                    "1": "4.41"
                                },
                                {
                                    "0": "The Day the Crayons Quit",
                                    "1": "4.41"
                                },
                                {
                                    "0": "The Kissing Hand",
                                    "1": "4.41"
                                },
                                {
                                    "0": "The Peacegiver: How Christ Offers to Heal Our Hearts and Homes",
                                    "1": "4.41"
                                },
                                {
                                    "0": "The Story of Ruby Bridges",
                                    "1": "4.41"
                                },
                                {
                                    "0": "The Weight of Glory",
                                    "1": "4.41"
                                },
                                {
                                    "0": "Being Mortal: Medicine and What Matters in the End",
                                    "1": "4.4"
                                },
                                {
                                    "0": "Between the World and Me",
                                    "1": "4.4"
                                },
                                {
                                    "0": "Gates of Fire: An Epic Novel of the Battle of Thermopylae",
                                    "1": "4.4"
                                },
                                {
                                    "0": "The Exploits of Sherlock Holmes",
                                    "1": "4.4"
                                },
                                {
                                    "0": "The Royal Ranger (Ranger's Apprentice, #12)",
                                    "1": "4.4"
                                },
                                {
                                    "0": "The Sunne in Splendour",
                                    "1": "4.4"
                                },
                                {
                                    "0": "Unbroken: A World War II Story of Survival, Resilience, and Redemption",
                                    "1": "4.4"
                                },
                                {
                                    "0": "With the Old Breed: At Peleliu and Okinawa",
                                    "1": "4.4"
                                },
                                {
                                    "0": "As Sure as the Dawn (Mark of the Lion, #3)",
                                    "1": "4.39"
                                },
                                {
                                    "0": "Beauty and the Beast",
                                    "1": "4.39"
                                },
                                {
                                    "0": "Every Thing on It",
                                    "1": "4.39"
                                },
                                {
                                    "0": "I Love You Through and Through",
                                    "1": "4.39"
                                },
                                {
                                    "0": "I Want My Hat Back",
                                    "1": "4.39"
                                },
                                {
                                    "0": "Martin Eden",
                                    "1": "4.39"
                                },
                                {
                                    "0": "My Utmost for His Highest",
                                    "1": "4.39"
                                },
                                {
                                    "0": "Red Notice: A True Story of High Finance, Murder, and One Man’s Fight for Justice",
                                    "1": "4.39"
                                },
                                {
                                    "0": "Stand Tall, Molly Lou Melon",
                                    "1": "4.39"
                                },
                                {
                                    "0": "Streams in the Desert",
                                    "1": "4.39"
                                },
                                {
                                    "0": "The Brothers K",
                                    "1": "4.39"
                                },
                                {
                                    "0": "The Lord God Made Them All",
                                    "1": "4.39"
                                },
                                {
                                    "0": "The Martian",
                                    "1": "4.39"
                                },
                                {
                                    "0": "The Truth Seeker (O'Malley #3)",
                                    "1": "4.39"
                                },
                                {
                                    "0": "Homicide: A Year on the Killing Streets",
                                    "1": "4.38"
                                },
                                {
                                    "0": "Love You to Death: The Unofficial Companion to the Vampire Diaries",
                                    "1": "4.38"
                                },
                                {
                                    "0": "Survivor In Death (In Death, #20)",
                                    "1": "4.38"
                                },
                                {
                                    "0": "The Beatles Anthology",
                                    "1": "4.38"
                                },
                                {
                                    "0": "The Giving Tree",
                                    "1": "4.38"
                                },
                                {
                                    "0": "The Looming Tower: Al-Qaeda and the Road to 9/11",
                                    "1": "4.38"
                                },
                                {
                                    "0": "The Power of a Praying Woman",
                                    "1": "4.38"
                                },
                                {
                                    "0": "The Return of the Prodigal Son: A Story of Homecoming",
                                    "1": "4.38"
                                },
                                {
                                    "0": "The Sandman: The Dream Hunters",
                                    "1": "4.38"
                                },
                                {
                                    "0": "Through Gates of Splendor",
                                    "1": "4.38"
                                },
                                {
                                    "0": "Twilight and History",
                                    "1": "4.38"
                                },
                                {
                                    "0": "A Gentleman in Moscow",
                                    "1": "4.37"
                                },
                                {
                                    "0": "And the Band Played On: Politics, People, and the AIDS Epidemic",
                                    "1": "4.37"
                                },
                                {
                                    "0": "Bumi Manusia",
                                    "1": "4.37"
                                },
                                {
                                    "0": "Out of My Mind",
                                    "1": "4.37"
                                },
                                {
                                    "0": "The Improbable Adventures of Sherlock Holmes",
                                    "1": "4.37"
                                },
                                {
                                    "0": "The Miracle of Forgiveness",
                                    "1": "4.37"
                                },
                                {
                                    "0": "The Pigeon Wants a Puppy!",
                                    "1": "4.37"
                                },
                                {
                                    "0": "The Wheel of Time: Boxed Set  (Wheel of Time, #1-8)",
                                    "1": "4.37"
                                },
                                {
                                    "0": "Wicked Deeds on a Winter's Night (Immortals After Dark #4)",
                                    "1": "4.37"
                                },
                                {
                                    "0": "A Monster Calls",
                                    "1": "4.36"
                                },
                                {
                                    "0": "A Work in Progress",
                                    "1": "4.36"
                                },
                                {
                                    "0": "Batman: The Killing Joke",
                                    "1": "4.36"
                                },
                                {
                                    "0": "Between Shades of Gray",
                                    "1": "4.36"
                                },
                                {
                                    "0": "Echo",
                                    "1": "4.36"
                                },
                                {
                                    "0": "Endurance: Shackleton's Incredible Voyage",
                                    "1": "4.36"
                                },
                                {
                                    "0": "Guess How Much I Love You",
                                    "1": "4.36"
                                },
                                {
                                    "0": "How the Grinch Stole Christmas!",
                                    "1": "4.36"
                                },
                                {
                                    "0": "Innocent in Death (In Death, #24)",
                                    "1": "4.36"
                                },
                                {
                                    "0": "Making Faces",
                                    "1": "4.36"
                                },
                                {
                                    "0": "Salt to the Sea",
                                    "1": "4.36"
                                },
                                {
                                    "0": "The Book Thief",
                                    "1": "4.36"
                                },
                                {
                                    "0": "The Godfather",
                                    "1": "4.36"
                                },
                                {
                                    "0": "The Power of the Dog",
                                    "1": "4.36"
                                },
                                {
                                    "0": "Y: The Last Man - The Deluxe Edition Book One",
                                    "1": "4.36"
                                },
                                {
                                    "0": "Chasing the Prophecy (Beyonders, #3)",
                                    "1": "4.35"
                                },
                                {
                                    "0": "Cosmos",
                                    "1": "4.35"
                                },
                                {
                                    "0": "Don't Let the Pigeon Stay Up Late!",
                                    "1": "4.35"
                                },
                                {
                                    "0": "East of Eden",
                                    "1": "4.35"
                                },
                                {
                                    "0": "Lover Eternal (Black Dagger Brotherhood, #2)",
                                    "1": "4.35"
                                },
                                {
                                    "0": "On the Night You Were Born",
                                    "1": "4.35"
                                },
                                {
                                    "0": "The Great Dune Trilogy  ",
                                    "1": "4.35"
                                },
                                {
                                    "0": "The Holiness of God",
                                    "1": "4.35"
                                },
                                {
                                    "0": "The Lorax",
                                    "1": "4.35"
                                },
                                {
                                    "0": "The Mauritius Command",
                                    "1": "4.35"
                                },
                                {
                                    "0": "The Pigeon Finds a Hot Dog!",
                                    "1": "4.35"
                                },
                                {
                                    "0": "The Story of Ferdinand",
                                    "1": "4.35"
                                },
                                {
                                    "0": "Watchmen",
                                    "1": "4.35"
                                },
                                {
                                    "0": "A Fine Balance",
                                    "1": "4.34"
                                },
                                {
                                    "0": "A Light in the Attic",
                                    "1": "4.34"
                                },
                                {
                                    "0": "A Thousand Splendid Suns",
                                    "1": "4.34"
                                },
                                {
                                    "0": "Different Seasons",
                                    "1": "4.34"
                                },
                                {
                                    "0": "Drums of Autumn (Outlander, #4)",
                                    "1": "4.34"
                                },
                                {
                                    "0": "Identical",
                                    "1": "4.34"
                                },
                                {
                                    "0": "India After Gandhi: The History of the World's Largest Democracy",
                                    "1": "4.34"
                                },
                                {
                                    "0": "Janet Evanovich Three and Four Two-Book Set (Stephanie Plum, #3-4)",
                                    "1": "4.34"
                                },
                                {
                                    "0": "Lone Survivor: The Eyewitness Account of Operation Redwing and the Lost Heroes of SEAL Team 10",
                                    "1": "4.34"
                                },
                                {
                                    "0": "Love You Forever",
                                    "1": "4.34"
                                },
                                {
                                    "0": "Oh, The Places You'll Go!",
                                    "1": "4.34"
                                },
                                {
                                    "0": "Peace Is Every Step: The Path of Mindfulness in Everyday Life",
                                    "1": "4.34"
                                },
                                {
                                    "0": "The Book with No Pictures",
                                    "1": "4.34"
                                },
                                {
                                    "0": "The Last Seven Months of Anne Frank",
                                    "1": "4.34"
                                },
                                {
                                    "0": "The Miraculous Journey of Edward Tulane",
                                    "1": "4.34"
                                },
                                {
                                    "0": "The Sandman: Endless Nights",
                                    "1": "4.34"
                                },
                                {
                                    "0": "The Sea of Tranquility",
                                    "1": "4.34"
                                },
                                {
                                    "0": "The Stand",
                                    "1": "4.34"
                                },
                                {
                                    "0": "The Walking Dead, Vol. 14: No Way Out",
                                    "1": "4.34"
                                },
                                {
                                    "0": "The Wall of Winnipeg and Me",
                                    "1": "4.34"
                                },
                                {
                                    "0": "All-Star Superman, Vol. 2",
                                    "1": "4.33"
                                },
                                {
                                    "0": "Amazing Grace",
                                    "1": "4.33"
                                },
                                {
                                    "0": "Batman, Volume 3: Death of the Family",
                                    "1": "4.33"
                                },
                                {
                                    "0": "Battlefield of the Mind: Winning the Battle in Your Mind",
                                    "1": "4.33"
                                },
                                {
                                    "0": "Born in Death (In Death, #23)",
                                    "1": "4.33"
                                },
                                {
                                    "0": "Crush",
                                    "1": "4.33"
                                },
                                {
                                    "0": "Exodus",
                                    "1": "4.33"
                                },
                                {
                                    "0": "Falling Up",
                                    "1": "4.33"
                                },
                                {
                                    "0": "Last Chance to See",
                                    "1": "4.33"
                                },
                                {
                                    "0": "Mastering the Art of French Cooking",
                                    "1": "4.33"
                                },
                                {
                                    "0": "Preacher, Volume 8: All Hell's a-Coming",
                                    "1": "4.33"
                                },
                                {
                                    "0": "SantaLand Diaries",
                                    "1": "4.33"
                                },
                                {
                                    "0": "Scott Pilgrim, Volume 5: Scott Pilgrim Vs. the Universe",
                                    "1": "4.33"
                                },
                                {
                                    "0": "Taken at Dusk (Shadow Falls, #3)",
                                    "1": "4.33"
                                },
                                {
                                    "0": "The Arrival",
                                    "1": "4.33"
                                },
                                {
                                    "0": "The Dragonslayer (Bone, #4)",
                                    "1": "4.33"
                                },
                                {
                                    "0": "The Emperor's Soul",
                                    "1": "4.33"
                                },
                                {
                                    "0": "The Heavenly Man: The Remarkable True Story of Chinese Christian Brother Yun",
                                    "1": "4.33"
                                },
                                {
                                    "0": "The Real Mother Goose",
                                    "1": "4.33"
                                },
                                {
                                    "0": "Visions in Death (In Death, #19)",
                                    "1": "4.33"
                                },
                                {
                                    "0": "A Higher Call: An Incredible True Story of Combat and Chivalry in the War-Torn Skies of World War II",
                                    "1": "4.32"
                                },
                                {
                                    "0": "Battle Cry of Freedom",
                                    "1": "4.32"
                                },
                                {
                                    "0": "Black Lies",
                                    "1": "4.32"
                                },
                                {
                                    "0": "Boy's Life",
                                    "1": "4.32"
                                },
                                {
                                    "0": "Counterfeit Gods: The Empty Promises of Money, Sex, and Power, and the Only Hope that Matters",
                                    "1": "4.32"
                                },
                                {
                                    "0": "Divided in Death (In Death, #18)",
                                    "1": "4.32"
                                },
                                {
                                    "0": "God's Smuggler",
                                    "1": "4.32"
                                },
                                {
                                    "0": "If I Die (Soul Screamers, #5)",
                                    "1": "4.32"
                                },
                                {
                                    "0": "Mufaro's Beautiful Daughters: An African Tale",
                                    "1": "4.32"
                                },
                                {
                                    "0": "Out of Breath (Breathing, #3)",
                                    "1": "4.32"
                                },
                                {
                                    "0": "Pale Blue Dot: A Vision of the Human Future in Space",
                                    "1": "4.32"
                                },
                                {
                                    "0": "Plenty",
                                    "1": "4.32"
                                },
                                {
                                    "0": "Scott Pilgrim, Volume 4: Scott Pilgrim Gets It Together",
                                    "1": "4.32"
                                },
                                {
                                    "0": "The Auschwitz Escape",
                                    "1": "4.32"
                                },
                                {
                                    "0": "The Battle for Skandia (Ranger's Apprentice, #4)",
                                    "1": "4.32"
                                },
                                {
                                    "0": "The Black Dagger Brotherhood: An Insider's Guide",
                                    "1": "4.32"
                                },
                                {
                                    "0": "The Boys in the Boat: Nine Americans and Their Epic Quest for Gold at the 1936 Berlin Olympics",
                                    "1": "4.32"
                                },
                                {
                                    "0": "The Darkest Lie (Lords of the Underworld #6)",
                                    "1": "4.32"
                                },
                                {
                                    "0": "The Everafter War (The Sisters Grimm, #7)",
                                    "1": "4.32"
                                },
                                {
                                    "0": "The Love Song of J. Alfred Prufrock and Other Poems",
                                    "1": "4.32"
                                },
                                {
                                    "0": "The Magic Strings of Frankie Presto",
                                    "1": "4.32"
                                },
                                {
                                    "0": "The Making of the Atomic Bomb",
                                    "1": "4.32"
                                },
                                {
                                    "0": "The Memoirs of Sherlock Holmes",
                                    "1": "4.32"
                                },
                                {
                                    "0": "The Missing Piece Meets the Big O ",
                                    "1": "4.32"
                                },
                                {
                                    "0": "The Paper Bag Princess",
                                    "1": "4.32"
                                },
                                {
                                    "0": "The Practice of the Presence of God",
                                    "1": "4.32"
                                },
                                {
                                    "0": "The Realms of the Gods (Immortals, #4)",
                                    "1": "4.32"
                                },
                                {
                                    "0": "The Secret Race: Inside the Hidden World of the Tour de France: Doping, Cover-ups, and Winning at All Costs",
                                    "1": "4.32"
                                },
                                {
                                    "0": "When Breath Becomes Air",
                                    "1": "4.32"
                                },
                                {
                                    "0": "Wild Magic (Immortals, #1)",
                                    "1": "4.32"
                                },
                                {
                                    "0": "Women's Bodies, Women's Wisdom: Creating Physical and Emotional Health and Healing",
                                    "1": "4.32"
                                },
                                {
                                    "0": "الطنطورية",
                                    "1": "4.32"
                                },
                                {
                                    "0": "عائد إلى حيفا",
                                    "1": "4.32"
                                },
                                {
                                    "0": "Anne Frank : The Biography",
                                    "1": "4.31"
                                },
                                {
                                    "0": "Chrysanthemum",
                                    "1": "4.31"
                                },
                                {
                                    "0": "Daytripper",
                                    "1": "4.31"
                                },
                                {
                                    "0": "Financial Peace Revisited",
                                    "1": "4.31"
                                },
                                {
                                    "0": "Half the Sky: Turning Oppression into Opportunity for Women Worldwide",
                                    "1": "4.31"
                                },
                                {
                                    "0": "Infinite Jest",
                                    "1": "4.31"
                                },
                                {
                                    "0": "Knowing God",
                                    "1": "4.31"
                                },
                                {
                                    "0": "Lilac Girls",
                                    "1": "4.31"
                                },
                                {
                                    "0": "Mere Christianity",
                                    "1": "4.31"
                                },
                                {
                                    "0": "On Writing: A Memoir of the Craft",
                                    "1": "4.31"
                                },
                                {
                                    "0": "The America's Test Kitchen Family Cookbook",
                                    "1": "4.31"
                                },
                                {
                                    "0": "The Autobiography of Martin Luther King, Jr.",
                                    "1": "4.31"
                                },
                                {
                                    "0": "The Endurance: Shackleton's Legendary Antarctic Expedition",
                                    "1": "4.31"
                                },
                                {
                                    "0": "The Little Mouse, the Red Ripe Strawberry, and the Big Hungry Bear",
                                    "1": "4.31"
                                },
                                {
                                    "0": "The Longest Day",
                                    "1": "4.31"
                                },
                                {
                                    "0": "The Power of a Praying Wife",
                                    "1": "4.31"
                                },
                                {
                                    "0": "The Pragmatic Programmer: From Journeyman to Master",
                                    "1": "4.31"
                                },
                                {
                                    "0": "The Sneetches and Other Stories",
                                    "1": "4.31"
                                },
                                {
                                    "0": "The Warmth of Other Suns: The Epic Story of America's Great Migration",
                                    "1": "4.31"
                                },
                                {
                                    "0": "The Way to Cook",
                                    "1": "4.31"
                                },
                                {
                                    "0": "Three Day Road",
                                    "1": "4.31"
                                },
                                {
                                    "0": "A Child's Garden of Verses",
                                    "1": "4.3"
                                },
                                {
                                    "0": "Batman, Volume 1: The Court of Owls",
                                    "1": "4.3"
                                },
                                {
                                    "0": "Binge",
                                    "1": "4.3"
                                },
                                {
                                    "0": "Cathedral",
                                    "1": "4.3"
                                },
                                {
                                    "0": "Citizen: An American Lyric",
                                    "1": "4.3"
                                },
                                {
                                    "0": "Copper Sun",
                                    "1": "4.3"
                                },
                                {
                                    "0": "Emperor Mage (Immortals, #3)",
                                    "1": "4.3"
                                },
                                {
                                    "0": "Gödel, Escher, Bach: An Eternal Golden Braid",
                                    "1": "4.3"
                                },
                                {
                                    "0": "Hinds' Feet on High Places",
                                    "1": "4.3"
                                },
                                {
                                    "0": "Judas Unchained",
                                    "1": "4.3"
                                },
                                {
                                    "0": "Little Bear's Friend",
                                    "1": "4.3"
                                },
                                {
                                    "0": "Rudolph the Red-Nosed Reindeer",
                                    "1": "4.3"
                                },
                                {
                                    "0": "Still Alice",
                                    "1": "4.3"
                                },
                                {
                                    "0": "Tatiana and Alexander (The Bronze Horseman, #2)",
                                    "1": "4.3"
                                },
                                {
                                    "0": "Team of Rivals: The Political Genius of Abraham Lincoln",
                                    "1": "4.3"
                                },
                                {
                                    "0": "Term Limits",
                                    "1": "4.3"
                                },
                                {
                                    "0": "The Places That Scare You: A Guide to Fearlessness in Difficult Times",
                                    "1": "4.3"
                                },
                                {
                                    "0": "The Power of Myth",
                                    "1": "4.3"
                                },
                                {
                                    "0": "The Raven and other poems",
                                    "1": "4.3"
                                },
                                {
                                    "0": "The Return of Sherlock Holmes",
                                    "1": "4.3"
                                },
                                {
                                    "0": "The Source",
                                    "1": "4.3"
                                },
                                {
                                    "0": "The Sweet Gum Tree",
                                    "1": "4.3"
                                },
                                {
                                    "0": "Ugly Love",
                                    "1": "4.3"
                                },
                                {
                                    "0": "We Wish to Inform You That Tomorrow We Will Be Killed with Our Families",
                                    "1": "4.3"
                                },
                                {
                                    "0": "11/22/63",
                                    "1": "4.29"
                                },
                                {
                                    "0": "A Pocket for Corduroy",
                                    "1": "4.29"
                                },
                                {
                                    "0": "A Return to Love: Reflections on the Principles of \"A Course in Miracles\"",
                                    "1": "4.29"
                                },
                                {
                                    "0": "A Thousand Boy Kisses",
                                    "1": "4.29"
                                },
                                {
                                    "0": "A Woman After God's Own Heart",
                                    "1": "4.29"
                                },
                                {
                                    "0": "Batman: The Black Mirror",
                                    "1": "4.29"
                                },
                                {
                                    "0": "Batman: The Long Halloween",
                                    "1": "4.29"
                                },
                                {
                                    "0": "Fallout (Crank, #3)",
                                    "1": "4.29"
                                },
                                {
                                    "0": "First They Killed My Father: A Daughter of Cambodia Remembers",
                                    "1": "4.29"
                                },
                                {
                                    "0": "Green Eggs and Ham",
                                    "1": "4.29"
                                },
                                {
                                    "0": "Matilda",
                                    "1": "4.29"
                                },
                                {
                                    "0": "Mistress of the Empire (The Empire Trilogy, #3)",
                                    "1": "4.29"
                                },
                                {
                                    "0": "Momo",
                                    "1": "4.29"
                                },
                                {
                                    "0": "Scott Pilgrim, Volume 3: Scott Pilgrim & The Infinite Sadness",
                                    "1": "4.29"
                                },
                                {
                                    "0": "Sisters",
                                    "1": "4.29"
                                },
                                {
                                    "0": "Stalingrad: The Fateful Siege, 1942–1943",
                                    "1": "4.29"
                                },
                                {
                                    "0": "The Adventures of Sherlock Holmes",
                                    "1": "4.29"
                                },
                                {
                                    "0": "The Autobiography of Malcolm X",
                                    "1": "4.29"
                                },
                                {
                                    "0": "The Complete Phantom of the Opera",
                                    "1": "4.29"
                                },
                                {
                                    "0": "The Emperor of All Maladies: A Biography of Cancer",
                                    "1": "4.29"
                                },
                                {
                                    "0": "The Little House",
                                    "1": "4.29"
                                },
                                {
                                    "0": "The Polar Express",
                                    "1": "4.29"
                                },
                                {
                                    "0": "The Road to the Dark Tower: Exploring Stephen King's Magnum Opus",
                                    "1": "4.29"
                                },
                                {
                                    "0": "The Total Money Makeover: A Proven Plan for Financial Fitness",
                                    "1": "4.29"
                                },
                                {
                                    "0": "The Velveteen Rabbit",
                                    "1": "4.29"
                                },
                                {
                                    "0": "The Walking Dead, Vol. 10: What We Become",
                                    "1": "4.29"
                                },
                                {
                                    "0": "Tiny Beautiful Things: Advice on Love and Life from Dear Sugar",
                                    "1": "4.29"
                                },
                                {
                                    "0": "We Were Soldiers Once... and Young: Ia Drang - The Battle that Changed the War in Vietnam",
                                    "1": "4.29"
                                },
                                {
                                    "0": "When Things Fall Apart: Heart Advice for Difficult Times",
                                    "1": "4.29"
                                },
                                {
                                    "0": "Will You Please Be Quiet, Please?",
                                    "1": "4.29"
                                },
                                {
                                    "0": "ثلاثية غرناطة",
                                    "1": "4.29"
                                },
                                {
                                    "0": "Animalia",
                                    "1": "4.28"
                                },
                                {
                                    "0": "Black Hawk Down",
                                    "1": "4.28"
                                },
                                {
                                    "0": "City of Thieves",
                                    "1": "4.28"
                                },
                                {
                                    "0": "Corduroy",
                                    "1": "4.28"
                                },
                                {
                                    "0": "Curious George Takes a Job",
                                    "1": "4.28"
                                },
                                {
                                    "0": "Cutting for Stone",
                                    "1": "4.28"
                                },
                                {
                                    "0": "Fish in a Tree",
                                    "1": "4.28"
                                },
                                {
                                    "0": "Flotsam",
                                    "1": "4.28"
                                },
                                {
                                    "0": "Glass (Crank, #2)",
                                    "1": "4.28"
                                },
                                {
                                    "0": "Gone with the Wind",
                                    "1": "4.28"
                                },
                                {
                                    "0": "Good Night, Mr. Tom",
                                    "1": "4.28"
                                },
                                {
                                    "0": "Hairy Maclary from Donaldson's Dairy",
                                    "1": "4.28"
                                },
                                {
                                    "0": "Half of a Yellow Sun",
                                    "1": "4.28"
                                },
                                {
                                    "0": "Her Mother's Hope (Marta's Legacy, #1)",
                                    "1": "4.28"
                                },
                                {
                                    "0": "Llama Llama Mad at Mama",
                                    "1": "4.28"
                                },
                                {
                                    "0": "Loving Mr. Daniels",
                                    "1": "4.28"
                                },
                                {
                                    "0": "Once We Were Brothers",
                                    "1": "4.28"
                                },
                                {
                                    "0": "Starlight (Warriors: The New Prophecy, #4)",
                                    "1": "4.28"
                                },
                                {
                                    "0": "Stone Soup",
                                    "1": "4.28"
                                },
                                {
                                    "0": "Stoner",
                                    "1": "4.28"
                                },
                                {
                                    "0": "Swan Song",
                                    "1": "4.28"
                                },
                                {
                                    "0": "The Book on the Taboo Against Knowing Who You Are",
                                    "1": "4.28"
                                },
                                {
                                    "0": "The Cartel",
                                    "1": "4.28"
                                },
                                {
                                    "0": "The Great Divorce",
                                    "1": "4.28"
                                },
                                {
                                    "0": "The Lords of Discipline",
                                    "1": "4.28"
                                },
                                {
                                    "0": "The Pursuit of Holiness",
                                    "1": "4.28"
                                },
                                {
                                    "0": "The Raven",
                                    "1": "4.28"
                                },
                                {
                                    "0": "The Snowman",
                                    "1": "4.28"
                                },
                                {
                                    "0": "This Side of the Grave (Night Huntress, #5)",
                                    "1": "4.28"
                                },
                                {
                                    "0": "Unravel Me (Shatter Me, #2)",
                                    "1": "4.28"
                                },
                                {
                                    "0": "A Little Life",
                                    "1": "4.27"
                                },
                                {
                                    "0": "Amelia Bedelia and the Surprise Shower",
                                    "1": "4.27"
                                },
                                {
                                    "0": "Angle of Repose",
                                    "1": "4.27"
                                },
                                {
                                    "0": "Be Here Now",
                                    "1": "4.27"
                                },
                                {
                                    "0": "Born to Run: A Hidden Tribe, Superathletes, and the Greatest Race the World Has Never Seen",
                                    "1": "4.27"
                                },
                                {
                                    "0": "Coming Home",
                                    "1": "4.27"
                                },
                                {
                                    "0": "Eragon & Eldest (Inheritance, #1-2)",
                                    "1": "4.27"
                                },
                                {
                                    "0": "Hark! A Vagrant",
                                    "1": "4.27"
                                },
                                {
                                    "0": "Hawkeye, Volume 2: Little Hits",
                                    "1": "4.27"
                                },
                                {
                                    "0": "Madeline and the Bad Hat",
                                    "1": "4.27"
                                },
                                {
                                    "0": "Mastery",
                                    "1": "4.27"
                                },
                                {
                                    "0": "Mila 18",
                                    "1": "4.27"
                                },
                                {
                                    "0": "Milk and Honey",
                                    "1": "4.27"
                                },
                                {
                                    "0": "Roller Girl",
                                    "1": "4.27"
                                },
                                {
                                    "0": "Servant of the Empire (The Empire Trilogy, #2)",
                                    "1": "4.27"
                                },
                                {
                                    "0": "Stone Butch Blues",
                                    "1": "4.27"
                                },
                                {
                                    "0": "Stories of Your Life and Others",
                                    "1": "4.27"
                                },
                                {
                                    "0": "Taken by Midnight (Midnight Breed, #8)",
                                    "1": "4.27"
                                },
                                {
                                    "0": "The Demon-Haunted World: Science as a Candle in the Dark",
                                    "1": "4.27"
                                },
                                {
                                    "0": "The Hidden Messages in Water",
                                    "1": "4.27"
                                },
                                {
                                    "0": "The Lions of Al-Rassan",
                                    "1": "4.27"
                                },
                                {
                                    "0": "The Missing Piece",
                                    "1": "4.27"
                                },
                                {
                                    "0": "The Napping House",
                                    "1": "4.27"
                                },
                                {
                                    "0": "The Song of Achilles",
                                    "1": "4.27"
                                },
                                {
                                    "0": "The Stories of John Cheever",
                                    "1": "4.27"
                                },
                                {
                                    "0": "We're Going on a Bear Hunt",
                                    "1": "4.27"
                                },
                                {
                                    "0": "13 Hours: The Inside Account of What Really Happened In Benghazi",
                                    "1": "4.26"
                                },
                                {
                                    "0": "A Grief Observed",
                                    "1": "4.26"
                                },
                                {
                                    "0": "Addicted",
                                    "1": "4.26"
                                },
                                {
                                    "0": "Alexander Hamilton",
                                    "1": "4.26"
                                },
                                {
                                    "0": "Americanah",
                                    "1": "4.26"
                                },
                                {
                                    "0": "Any Human Heart",
                                    "1": "4.26"
                                },
                                {
                                    "0": "Barefoot Contessa Family Style: Easy Ideas and Recipes That Make Everyone Feel Like Family",
                                    "1": "4.26"
                                },
                                {
                                    "0": "Batman, Volume 2: The City of Owls",
                                    "1": "4.26"
                                },
                                {
                                    "0": "Bloodhound (Beka Cooper, #2)",
                                    "1": "4.26"
                                },
                                {
                                    "0": "Columbine",
                                    "1": "4.26"
                                },
                                {
                                    "0": "Essentials of Classic Italian Cooking",
                                    "1": "4.26"
                                },
                                {
                                    "0": "Far from the Tree: Parents, Children, and the Search for Identity",
                                    "1": "4.26"
                                },
                                {
                                    "0": "Fried Green Tomatoes at the Whistle Stop Cafe",
                                    "1": "4.26"
                                },
                                {
                                    "0": "Go the Fuck to Sleep",
                                    "1": "4.26"
                                },
                                {
                                    "0": "Lamb: The Gospel According to Biff, Christ's Childhood Pal",
                                    "1": "4.26"
                                },
                                {
                                    "0": "Les Fleurs du Mal",
                                    "1": "4.26"
                                },
                                {
                                    "0": "Shantaram",
                                    "1": "4.26"
                                },
                                {
                                    "0": "Simon vs. the Homo Sapiens Agenda",
                                    "1": "4.26"
                                },
                                {
                                    "0": "The Atonement Child",
                                    "1": "4.26"
                                },
                                {
                                    "0": "The Big Short: Inside the Doomsday Machine",
                                    "1": "4.26"
                                },
                                {
                                    "0": "The Charm School",
                                    "1": "4.26"
                                },
                                {
                                    "0": "The Dot",
                                    "1": "4.26"
                                },
                                {
                                    "0": "The Fault in Our Stars",
                                    "1": "4.26"
                                },
                                {
                                    "0": "The Field of Swords (Emperor, #3)",
                                    "1": "4.26"
                                },
                                {
                                    "0": "The Kite Runner",
                                    "1": "4.26"
                                },
                                {
                                    "0": "The Lord of the Rings Sketchbook",
                                    "1": "4.26"
                                },
                                {
                                    "0": "The Storyteller",
                                    "1": "4.26"
                                },
                                {
                                    "0": "Unveiled: Tamar (Lineage of Grace #1)",
                                    "1": "4.26"
                                },
                                {
                                    "0": "Very Good Lives: The Fringe Benefits of Failure and the Importance of Imagination",
                                    "1": "4.26"
                                },
                                {
                                    "0": "A Bargain for Frances",
                                    "1": "4.25"
                                },
                                {
                                    "0": "A Color of His Own",
                                    "1": "4.25"
                                },
                                {
                                    "0": "A Sick Day for Amos McGee",
                                    "1": "4.25"
                                },
                                {
                                    "0": "Anne Frank: Beyond the Diary - A Photographic Remembrance",
                                    "1": "4.25"
                                },
                                {
                                    "0": "Barnyard Dance",
                                    "1": "4.25"
                                },
                                {
                                    "0": "Bear Snores On",
                                    "1": "4.25"
                                },
                                {
                                    "0": "Betty Crocker's Cookbook",
                                    "1": "4.25"
                                },
                                {
                                    "0": "Come Back, Amelia Bedelia",
                                    "1": "4.25"
                                },
                                {
                                    "0": "Cryptonomicon",
                                    "1": "4.25"
                                },
                                {
                                    "0": "Curious George Visits the Library",
                                    "1": "4.25"
                                },
                                {
                                    "0": "Foxe's Book of Martyrs",
                                    "1": "4.25"
                                },
                                {
                                    "0": "Frosty the Snow Man",
                                    "1": "4.25"
                                },
                                {
                                    "0": "Good Omens: The Nice and Accurate Prophecies of Agnes Nutter, Witch",
                                    "1": "4.25"
                                },
                                {
                                    "0": "How I Raised Myself from Failure to Success in Selling",
                                    "1": "4.25"
                                },
                                {
                                    "0": "In Harm's Way: The Sinking of the U.S.S. Indianapolis and the Extraordinary Story of Its Survivors",
                                    "1": "4.25"
                                },
                                {
                                    "0": "Justice: What's the Right Thing to Do?",
                                    "1": "4.25"
                                },
                                {
                                    "0": "Little Princes: One Man's Promise to Bring Home the Lost Children of Nepal",
                                    "1": "4.25"
                                },
                                {
                                    "0": "Magician: Master (The Riftwar Saga, #2)",
                                    "1": "4.25"
                                },
                                {
                                    "0": "Mystery Man (Dream Man, #1)",
                                    "1": "4.25"
                                },
                                {
                                    "0": "Nicholas and Alexandra",
                                    "1": "4.25"
                                },
                                {
                                    "0": "One Grave at a Time (Night Huntress, #6)",
                                    "1": "4.25"
                                },
                                {
                                    "0": "Owen",
                                    "1": "4.25"
                                },
                                {
                                    "0": "Phantoms in the Brain: Probing the Mysteries of the Human Mind",
                                    "1": "4.25"
                                },
                                {
                                    "0": "Practicing the Power of Now: Essential Teachings, Meditations, and Exercises from the Power of Now",
                                    "1": "4.25"
                                },
                                {
                                    "0": "Saving Grace",
                                    "1": "4.25"
                                },
                                {
                                    "0": "Seeds of Rebellion (Beyonders, #2)",
                                    "1": "4.25"
                                },
                                {
                                    "0": "Skippyjon Jones",
                                    "1": "4.25"
                                },
                                {
                                    "0": "The Call of Cthulhu and Other Weird Stories",
                                    "1": "4.25"
                                },
                                {
                                    "0": "The Collected Poems of W.B. Yeats",
                                    "1": "4.25"
                                },
                                {
                                    "0": "The Day of the Jackal",
                                    "1": "4.25"
                                },
                                {
                                    "0": "The Death of Kings (Emperor, #2)",
                                    "1": "4.25"
                                },
                                {
                                    "0": "The Earthsea Trilogy",
                                    "1": "4.25"
                                },
                                {
                                    "0": "The Evolutionary Void",
                                    "1": "4.25"
                                },
                                {
                                    "0": "The Hat",
                                    "1": "4.25"
                                },
                                {
                                    "0": "The Last Lecture",
                                    "1": "4.25"
                                },
                                {
                                    "0": "The Little Old Lady Who Was Not Afraid of Anything",
                                    "1": "4.25"
                                },
                                {
                                    "0": "The Princess Bride ",
                                    "1": "4.25"
                                },
                                {
                                    "0": "The Rise of Theodore Roosevelt",
                                    "1": "4.25"
                                },
                                {
                                    "0": "The Taste of Home Cookbook",
                                    "1": "4.25"
                                },
                                {
                                    "0": "There are No Children Here: The Story of Two Boys Growing Up in the Other America",
                                    "1": "4.25"
                                },
                                {
                                    "0": "To Kill a Mockingbird",
                                    "1": "4.25"
                                },
                                {
                                    "0": "Trials of Death (Cirque Du Freak, #5)",
                                    "1": "4.25"
                                },
                                {
                                    "0": "V for Vendetta",
                                    "1": "4.25"
                                },
                                {
                                    "0": "What the Bleep Do We Know!?: Discovering the Endless Possibilities for Altering Your Everyday Reality",
                                    "1": "4.25"
                                },
                                {
                                    "0": "A Bad Case of Stripes",
                                    "1": "4.24"
                                },
                                {
                                    "0": "A Bridge Too Far",
                                    "1": "4.24"
                                },
                                {
                                    "0": "A Leaf on the Wind of All Hallows (Outlander, #8.5)",
                                    "1": "4.24"
                                },
                                {
                                    "0": "A Tree Grows in Brooklyn",
                                    "1": "4.24"
                                },
                                {
                                    "0": "All My Friends Are Dead",
                                    "1": "4.24"
                                },
                                {
                                    "0": "Beyond Band of Brothers: The War Memoirs of Major Dick Winters",
                                    "1": "4.24"
                                },
                                {
                                    "0": "Change Your Thoughts - Change Your Life: Living the Wisdom of the Tao",
                                    "1": "4.24"
                                },
                                {
                                    "0": "Creativity, Inc.: Overcoming the Unseen Forces That Stand in the Way of True Inspiration",
                                    "1": "4.24"
                                },
                                {
                                    "0": "Curious George Rides a Bike",
                                    "1": "4.24"
                                },
                                {
                                    "0": "Dispatches",
                                    "1": "4.24"
                                },
                                {
                                    "0": "Dom Casmurro",
                                    "1": "4.24"
                                },
                                {
                                    "0": "Driving Miss Daisy",
                                    "1": "4.24"
                                },
                                {
                                    "0": "Each Peach Pear Plum",
                                    "1": "4.24"
                                },
                                {
                                    "0": "Glory over Everything: Beyond The Kitchen House",
                                    "1": "4.24"
                                },
                                {
                                    "0": "Harold and the Purple Crayon",
                                    "1": "4.24"
                                },
                                {
                                    "0": "If You Give a Mouse a Cookie",
                                    "1": "4.24"
                                },
                                {
                                    "0": "Jitterbug Perfume",
                                    "1": "4.24"
                                },
                                {
                                    "0": "Just Me in the Tub (Mercer Mayer's Little Critter)",
                                    "1": "4.24"
                                },
                                {
                                    "0": "Kingdom Come",
                                    "1": "4.24"
                                },
                                {
                                    "0": "Madeline's Rescue",
                                    "1": "4.24"
                                },
                                {
                                    "0": "Money, and the Law of Attraction: Learning to Attract Wealth, Health, and Happiness",
                                    "1": "4.24"
                                },
                                {
                                    "0": "Moneyball: The Art of Winning an Unfair Game",
                                    "1": "4.24"
                                },
                                {
                                    "0": "Once Burned (Night Prince, #1)",
                                    "1": "4.24"
                                },
                                {
                                    "0": "Pandora's Star",
                                    "1": "4.24"
                                },
                                {
                                    "0": "Pride and Prejudice",
                                    "1": "4.24"
                                },
                                {
                                    "0": "Sailing Alone Around the Room: New and Selected Poems",
                                    "1": "4.24"
                                },
                                {
                                    "0": "Scott Pilgrim, Volume 2: Scott Pilgrim vs. The World",
                                    "1": "4.24"
                                },
                                {
                                    "0": "Smiley's People",
                                    "1": "4.24"
                                },
                                {
                                    "0": "Sometimes a Great Notion",
                                    "1": "4.24"
                                },
                                {
                                    "0": "The Glass Castle",
                                    "1": "4.24"
                                },
                                {
                                    "0": "The Hating Game",
                                    "1": "4.24"
                                },
                                {
                                    "0": "The Hero With a Thousand Faces",
                                    "1": "4.24"
                                },
                                {
                                    "0": "The One and Only Ivan",
                                    "1": "4.24"
                                },
                                {
                                    "0": "The Orenda",
                                    "1": "4.24"
                                },
                                {
                                    "0": "The River Why",
                                    "1": "4.24"
                                },
                                {
                                    "0": "The Souls of Black Folk",
                                    "1": "4.24"
                                },
                                {
                                    "0": "The Temporal Void",
                                    "1": "4.24"
                                },
                                {
                                    "0": "Where the Mountain Meets the Moon",
                                    "1": "4.24"
                                },
                                {
                                    "0": "A Knight in Shining Armor",
                                    "1": "4.23"
                                },
                                {
                                    "0": "Ariel",
                                    "1": "4.23"
                                },
                                {
                                    "0": "Barefoot Contessa Back to Basics",
                                    "1": "4.23"
                                },
                                {
                                    "0": "Batman: Year One",
                                    "1": "4.23"
                                },
                                {
                                    "0": "Bonhoeffer: Pastor, Martyr, Prophet, Spy",
                                    "1": "4.23"
                                },
                                {
                                    "0": "Click, Clack, Moo: Cows That Type",
                                    "1": "4.23"
                                },
                                {
                                    "0": "Complications: A Surgeon's Notes on an Imperfect Science",
                                    "1": "4.23"
                                },
                                {
                                    "0": "If You Give a Pig a Pancake ",
                                    "1": "4.23"
                                },
                                {
                                    "0": "Memórias Póstumas de Brás Cubas",
                                    "1": "4.23"
                                },
                                {
                                    "0": "On Writing Well: The Classic Guide to Writing Nonfiction",
                                    "1": "4.23"
                                },
                                {
                                    "0": "Orthodoxy",
                                    "1": "4.23"
                                },
                                {
                                    "0": "Papillon",
                                    "1": "4.23"
                                },
                                {
                                    "0": "QED: The Strange Theory of Light and Matter",
                                    "1": "4.23"
                                },
                                {
                                    "0": "Random Family: Love, Drugs, Trouble, and Coming of Age in the Bronx",
                                    "1": "4.23"
                                },
                                {
                                    "0": "Savage Inequalities: Children in America's Schools",
                                    "1": "4.23"
                                },
                                {
                                    "0": "Snowmen at Night",
                                    "1": "4.23"
                                },
                                {
                                    "0": "Systematic Theology: An Introduction to Biblical Doctrine",
                                    "1": "4.23"
                                },
                                {
                                    "0": "The Blue Castle ",
                                    "1": "4.23"
                                },
                                {
                                    "0": "The Caine Mutiny",
                                    "1": "4.23"
                                },
                                {
                                    "0": "The Complete Adventures of Curious George",
                                    "1": "4.23"
                                },
                                {
                                    "0": "The Five Love Languages: How to Express Heartfelt Commitment to Your Mate",
                                    "1": "4.23"
                                },
                                {
                                    "0": "The Invention of Hugo Cabret",
                                    "1": "4.23"
                                },
                                {
                                    "0": "The Invention of Wings",
                                    "1": "4.23"
                                },
                                {
                                    "0": "The Jordan Rules",
                                    "1": "4.23"
                                },
                                {
                                    "0": "The Ragamuffin Gospel: Good News for the Bedraggled, Beat-Up, and Burnt Out",
                                    "1": "4.23"
                                },
                                {
                                    "0": "The Right Stuff",
                                    "1": "4.23"
                                },
                                {
                                    "0": "The Tiger Who Came to Tea",
                                    "1": "4.23"
                                },
                                {
                                    "0": "The Vampire Prince (Cirque Du Freak, #6)",
                                    "1": "4.23"
                                },
                                {
                                    "0": "The Walking Dead, Vol. 13: Too Far Gone",
                                    "1": "4.23"
                                },
                                {
                                    "0": "The Waste Land and Other Poems",
                                    "1": "4.23"
                                },
                                {
                                    "0": "This is Not My Hat",
                                    "1": "4.23"
                                },
                                {
                                    "0": "Twilight: The Complete Illustrated Movie Companion",
                                    "1": "4.23"
                                },
                                {
                                    "0": "When Crickets Cry",
                                    "1": "4.23"
                                },
                                {
                                    "0": "Wild Swans: Three Daughters of China",
                                    "1": "4.23"
                                },
                                {
                                    "0": "A Different Blue",
                                    "1": "4.22"
                                },
                                {
                                    "0": "A Mango-Shaped Space",
                                    "1": "4.22"
                                },
                                {
                                    "0": "A Prayer for Owen Meany",
                                    "1": "4.22"
                                },
                                {
                                    "0": "Alexander and the Terrible, Horrible, No Good, Very Bad Day",
                                    "1": "4.22"
                                },
                                {
                                    "0": "America's First Daughter",
                                    "1": "4.22"
                                },
                                {
                                    "0": "Autobiography of a Yogi",
                                    "1": "4.22"
                                },
                                {
                                    "0": "Barbarians at the Gate: The Fall of RJR Nabisco",
                                    "1": "4.22"
                                },
                                {
                                    "0": "Bird by Bird: Some Instructions on Writing and Life",
                                    "1": "4.22"
                                },
                                {
                                    "0": "Cinderella",
                                    "1": "4.22"
                                },
                                {
                                    "0": "CivilWarLand in Bad Decline",
                                    "1": "4.22"
                                },
                                {
                                    "0": "Curious George Goes to the Hospital",
                                    "1": "4.22"
                                },
                                {
                                    "0": "David Gets In Trouble",
                                    "1": "4.22"
                                },
                                {
                                    "0": "Desert Solitaire",
                                    "1": "4.22"
                                },
                                {
                                    "0": "Do No Harm: Stories of Life, Death and Brain Surgery",
                                    "1": "4.22"
                                },
                                {
                                    "0": "Dragon Slippers (Dragon Slippers, #1)",
                                    "1": "4.22"
                                },
                                {
                                    "0": "Fermat's Enigma: The Epic Quest to Solve the World's Greatest Mathematical Problem",
                                    "1": "4.22"
                                },
                                {
                                    "0": "Hand, Hand, Fingers, Thumb",
                                    "1": "4.22"
                                },
                                {
                                    "0": "Honor's Splendour",
                                    "1": "4.22"
                                },
                                {
                                    "0": "Just Go to Bed",
                                    "1": "4.22"
                                },
                                {
                                    "0": "Killers of the Dawn (Cirque Du Freak, #9)",
                                    "1": "4.22"
                                },
                                {
                                    "0": "Little Bear",
                                    "1": "4.22"
                                },
                                {
                                    "0": "Lord of the Shadows (Cirque Du Freak, #11)",
                                    "1": "4.22"
                                },
                                {
                                    "0": "Love Comes Softly (Love Comes Softly, #1)",
                                    "1": "4.22"
                                },
                                {
                                    "0": "Manufacturing Consent: The Political Economy of the Mass Media",
                                    "1": "4.22"
                                },
                                {
                                    "0": "Marching Powder: A True Story of Friendship, Cocaine, and South America's Strangest Jail",
                                    "1": "4.22"
                                },
                                {
                                    "0": "Punk 57",
                                    "1": "4.22"
                                },
                                {
                                    "0": "Rome (Marked Men, #3)",
                                    "1": "4.22"
                                },
                                {
                                    "0": "Selected Poems",
                                    "1": "4.22"
                                },
                                {
                                    "0": "Stellaluna",
                                    "1": "4.22"
                                },
                                {
                                    "0": "Stephen King's N.",
                                    "1": "4.22"
                                },
                                {
                                    "0": "Strega Nona",
                                    "1": "4.22"
                                },
                                {
                                    "0": "The BFG",
                                    "1": "4.22"
                                },
                                {
                                    "0": "The Crossover",
                                    "1": "4.22"
                                },
                                {
                                    "0": "The Gift of Therapy: An Open Letter to a New Generation of Therapists and Their Patients",
                                    "1": "4.22"
                                },
                                {
                                    "0": "The Going-To-Bed Book",
                                    "1": "4.22"
                                },
                                {
                                    "0": "The Lions of Little Rock",
                                    "1": "4.22"
                                },
                                {
                                    "0": "The Phantom Tollbooth",
                                    "1": "4.22"
                                },
                                {
                                    "0": "The Prince of Tides",
                                    "1": "4.22"
                                },
                                {
                                    "0": "The Prize",
                                    "1": "4.22"
                                },
                                {
                                    "0": "The Prophet",
                                    "1": "4.22"
                                },
                                {
                                    "0": "The Recruit (Cherub, #1)",
                                    "1": "4.22"
                                },
                                {
                                    "0": "The Shock Doctrine: The Rise of Disaster Capitalism",
                                    "1": "4.22"
                                },
                                {
                                    "0": "The Tell-Tale Heart",
                                    "1": "4.22"
                                },
                                {
                                    "0": "The Thorn Birds",
                                    "1": "4.22"
                                },
                                {
                                    "0": "The Tibetan Book of Living and Dying",
                                    "1": "4.22"
                                },
                                {
                                    "0": "The Unlikely Spy",
                                    "1": "4.22"
                                },
                                {
                                    "0": "Wait for It",
                                    "1": "4.22"
                                },
                                {
                                    "0": "War",
                                    "1": "4.22"
                                },
                                {
                                    "0": "Wemberly Worried",
                                    "1": "4.22"
                                },
                                {
                                    "0": "Where Is God When It Hurts?",
                                    "1": "4.22"
                                },
                                {
                                    "0": "Where the Wild Things Are",
                                    "1": "4.22"
                                },
                                {
                                    "0": "Wild Seed (Patternmaster, #1)",
                                    "1": "4.22"
                                },
                                {
                                    "0": "A Fish Out of Water",
                                    "1": "4.21"
                                },
                                {
                                    "0": "Bury My Heart at Wounded Knee: An Indian History of the American West",
                                    "1": "4.21"
                                },
                                {
                                    "0": "Calling Me Home",
                                    "1": "4.21"
                                },
                                {
                                    "0": "Centennial",
                                    "1": "4.21"
                                },
                                {
                                    "0": "Chicka Chicka Boom Boom",
                                    "1": "4.21"
                                },
                                {
                                    "0": "Dead Poets Society",
                                    "1": "4.21"
                                },
                                {
                                    "0": "Disappearing Acts",
                                    "1": "4.21"
                                },
                                {
                                    "0": "Envy (Fallen Angels, #3)",
                                    "1": "4.21"
                                },
                                {
                                    "0": "Follow the River",
                                    "1": "4.21"
                                },
                                {
                                    "0": "Friends and Lovers",
                                    "1": "4.21"
                                },
                                {
                                    "0": "Gifted Hands: The Ben Carson Story",
                                    "1": "4.21"
                                },
                                {
                                    "0": "Giovanni's Room",
                                    "1": "4.21"
                                },
                                {
                                    "0": "Go Away, Big Green Monster!",
                                    "1": "4.21"
                                },
                                {
                                    "0": "I'm Just Here for the Food: Food + Heat = Cooking",
                                    "1": "4.21"
                                },
                                {
                                    "0": "Kiss an Angel",
                                    "1": "4.21"
                                },
                                {
                                    "0": "Make Way for Ducklings",
                                    "1": "4.21"
                                },
                                {
                                    "0": "Marvels",
                                    "1": "4.21"
                                },
                                {
                                    "0": "Mother Night",
                                    "1": "4.21"
                                },
                                {
                                    "0": "Mountains Beyond Mountains: The Quest of Dr. Paul Farmer, A Man Who Would Cure the World",
                                    "1": "4.21"
                                },
                                {
                                    "0": "Panda Bear, Panda Bear, What Do You See?",
                                    "1": "4.21"
                                },
                                {
                                    "0": "Planetary, Volume 1: All Over the World and Other Stories",
                                    "1": "4.21"
                                },
                                {
                                    "0": "Run Baby Run",
                                    "1": "4.21"
                                },
                                {
                                    "0": "Same Kind of Different as Me",
                                    "1": "4.21"
                                },
                                {
                                    "0": "The Barefoot Contessa Cookbook",
                                    "1": "4.21"
                                },
                                {
                                    "0": "The Complete Poems of Emily Dickinson",
                                    "1": "4.21"
                                },
                                {
                                    "0": "The End of Eternity",
                                    "1": "4.21"
                                },
                                {
                                    "0": "The Five Love Languages of Children",
                                    "1": "4.21"
                                },
                                {
                                    "0": "The Heretic Queen",
                                    "1": "4.21"
                                },
                                {
                                    "0": "The Little Red Caboose (Little Golden Book)",
                                    "1": "4.21"
                                },
                                {
                                    "0": "The Miracle Worker",
                                    "1": "4.21"
                                },
                                {
                                    "0": "The Mixed-Up Chameleon",
                                    "1": "4.21"
                                },
                                {
                                    "0": "The Perks of Being a Wallflower",
                                    "1": "4.21"
                                },
                                {
                                    "0": "The Wishing Spell (The Land of Stories, #1)",
                                    "1": "4.21"
                                },
                                {
                                    "0": "Tikki Tikki Tembo",
                                    "1": "4.21"
                                },
                                {
                                    "0": "Unlimited Power : The New Science Of Personal Achievement",
                                    "1": "4.21"
                                },
                                {
                                    "0": "What's So Amazing About Grace?",
                                    "1": "4.21"
                                },
                                {
                                    "0": "Wolf-Speaker (Immortals, #2)",
                                    "1": "4.21"
                                },
                                {
                                    "0": "استمتع بحياتك",
                                    "1": "4.21"
                                },
                                {
                                    "0": "المانيفستو",
                                    "1": "4.21"
                                },
                                {
                                    "0": "2666",
                                    "1": "4.2"
                                },
                                {
                                    "0": "A Chair for My Mother",
                                    "1": "4.2"
                                },
                                {
                                    "0": "A House in the Sky",
                                    "1": "4.2"
                                },
                                {
                                    "0": "A Little Princess",
                                    "1": "4.2"
                                },
                                {
                                    "0": "ABNKKBSNPLAKo?! (Mga Kwentong Chalk ni Bob Ong)",
                                    "1": "4.2"
                                },
                                {
                                    "0": "Amadeus",
                                    "1": "4.2"
                                },
                                {
                                    "0": "August: Osage County",
                                    "1": "4.2"
                                },
                                {
                                    "0": "Big Little Lies",
                                    "1": "4.2"
                                },
                                {
                                    "0": "Bread and Jam for Frances",
                                    "1": "4.2"
                                },
                                {
                                    "0": "Christy",
                                    "1": "4.2"
                                },
                                {
                                    "0": "Collected Poems",
                                    "1": "4.2"
                                },
                                {
                                    "0": "Eloise ",
                                    "1": "4.2"
                                },
                                {
                                    "0": "Eragon, Eldest & Brisingr (Inheritance, #1-3)",
                                    "1": "4.2"
                                },
                                {
                                    "0": "Every Last Word",
                                    "1": "4.2"
                                },
                                {
                                    "0": "Fight Club",
                                    "1": "4.2"
                                },
                                {
                                    "0": "Good Night, Gorilla",
                                    "1": "4.2"
                                },
                                {
                                    "0": "Hafalan Shalat Delisa",
                                    "1": "4.2"
                                },
                                {
                                    "0": "If You Give a Cat a Cupcake",
                                    "1": "4.2"
                                },
                                {
                                    "0": "Infidel",
                                    "1": "4.2"
                                },
                                {
                                    "0": "Jaya: An Illustrated Retelling of the Mahabharata",
                                    "1": "4.2"
                                },
                                {
                                    "0": "Lilly's Purple Plastic Purse",
                                    "1": "4.2"
                                },
                                {
                                    "0": "Malcolm X: A Life of Reinvention",
                                    "1": "4.2"
                                },
                                {
                                    "0": "Malgudi Days",
                                    "1": "4.2"
                                },
                                {
                                    "0": "Mike Mulligan and His Steam Shovel",
                                    "1": "4.2"
                                },
                                {
                                    "0": "Nimona",
                                    "1": "4.2"
                                },
                                {
                                    "0": "No Ordinary Time: Franklin and Eleanor Roosevelt: The Home Front in World War II",
                                    "1": "4.2"
                                },
                                {
                                    "0": "Oscar et la dame rose",
                                    "1": "4.2"
                                },
                                {
                                    "0": "Our Band Could Be Your Life: Scenes from the American Indie Underground 1981-1991",
                                    "1": "4.2"
                                },
                                {
                                    "0": "Owl Moon",
                                    "1": "4.2"
                                },
                                {
                                    "0": "Palestine",
                                    "1": "4.2"
                                },
                                {
                                    "0": "Rebecca",
                                    "1": "4.2"
                                },
                                {
                                    "0": "Romancing Mister Bridgerton (Bridgertons, #4)",
                                    "1": "4.2"
                                },
                                {
                                    "0": "Small Sacrifices: A True Story of Passion and Murder",
                                    "1": "4.2"
                                },
                                {
                                    "0": "The Bane Chronicles",
                                    "1": "4.2"
                                },
                                {
                                    "0": "The Brain That Changes Itself: Stories of Personal Triumph from the Frontiers of Brain Science",
                                    "1": "4.2"
                                },
                                {
                                    "0": "The Cake Bible",
                                    "1": "4.2"
                                },
                                {
                                    "0": "The Case of Charles Dexter Ward",
                                    "1": "4.2"
                                },
                                {
                                    "0": "The Case-Book of Sherlock Holmes",
                                    "1": "4.2"
                                },
                                {
                                    "0": "The Collected Poems",
                                    "1": "4.2"
                                },
                                {
                                    "0": "The Cross and the Switchblade",
                                    "1": "4.2"
                                },
                                {
                                    "0": "The Far Pavilions",
                                    "1": "4.2"
                                },
                                {
                                    "0": "The Hard Thing About Hard Things: Building a Business When There Are No Easy Answers",
                                    "1": "4.2"
                                },
                                {
                                    "0": "The Little Red Hen (Little Golden Book)",
                                    "1": "4.2"
                                },
                                {
                                    "0": "The Lost Wife",
                                    "1": "4.2"
                                },
                                {
                                    "0": "The Reason for God: Belief in an Age of Skepticism",
                                    "1": "4.2"
                                },
                                {
                                    "0": "The Relatives Came",
                                    "1": "4.2"
                                },
                                {
                                    "0": "The Robe",
                                    "1": "4.2"
                                },
                                {
                                    "0": "The Stinky Cheese Man and Other Fairly Stupid Tales",
                                    "1": "4.2"
                                },
                                {
                                    "0": "There Was an Old Lady Who Swallowed a Fly",
                                    "1": "4.2"
                                },
                                {
                                    "0": "Tilt",
                                    "1": "4.2"
                                },
                                {
                                    "0": "Touching the Void: The True Story of One Man's Miraculous Survival",
                                    "1": "4.2"
                                },
                                {
                                    "0": "Zami: A New Spelling of My Name",
                                    "1": "4.2"
                                }
                            ]
                        },
                        "text/html": "<table><tr><th>title</th><th>average_rating</th></tr><tr><td>The Complete Calvin and Hobbes</td><td>4.82</td></tr><tr><td>Mark of the Lion Trilogy</td><td>4.76</td></tr><tr><td>It's a Magical World: A Calvin and Hobbes Collection</td><td>4.75</td></tr><tr><td>There's Treasure Everywhere: A Calvin and Hobbes Collection</td><td>4.74</td></tr><tr><td>Harry Potter Collection (Harry Potter, #1-6)</td><td>4.73</td></tr><tr><td>Homicidal Psycho Jungle Cat: A Calvin and Hobbes Collection</td><td>4.71</td></tr><tr><td>The Days Are Just Packed: A Calvin and Hobbes Collection</td><td>4.68</td></tr><tr><td>The Calvin and Hobbes Lazy Sunday Book</td><td>4.66</td></tr><tr><td>The Absolute Sandman, Volume One</td><td>4.65</td></tr><tr><td>The Essential Calvin and Hobbes: A Calvin and Hobbes Treasury</td><td>4.65</td></tr><tr><td>The Calvin and Hobbes Tenth Anniversary Book</td><td>4.63</td></tr><tr><td>The Hate U Give</td><td>4.62</td></tr><tr><td>Calvin and Hobbes</td><td>4.61</td></tr><tr><td>Harry Potter and the Chamber of Secrets: Sheet Music for Flute with C.D</td><td>4.61</td></tr><tr><td>Holy Bible: New International Version</td><td>4.61</td></tr><tr><td>Standing for Something: 10 Neglected Virtues That Will Heal Our Hearts and Homes</td><td>4.61</td></tr><tr><td>The Sandman: King of Dreams</td><td>4.61</td></tr><tr><td>An Echo in the Darkness (Mark of the Lion, #2)</td><td>4.6</td></tr><tr><td>The Lord of the Rings: The Art of The Fellowship of the Ring</td><td>4.59</td></tr><tr><td>Just Mercy: A Story of Justice and Redemption</td><td>4.58</td></tr><tr><td>NARUTO -ナルト- 巻ノ四十三</td><td>4.57</td></tr><tr><td>Harry Potter Page to Screen: The Complete Filmmaking Journey</td><td>4.56</td></tr><tr><td>The Green Mile, Part 6: Coffey on the Mile</td><td>4.55</td></tr><tr><td>The Constitution of the United States of America</td><td>4.54</td></tr><tr><td>The Nightingale</td><td>4.54</td></tr><tr><td>Courageous</td><td>4.53</td></tr><tr><td>The Lord of the Rings: Weapons and Warfare</td><td>4.53</td></tr><tr><td>Thank You, Mr. Falker</td><td>4.52</td></tr><tr><td>The Green Mile, Part 4: The Bad Death of Eduard Delacroix</td><td>4.52</td></tr><tr><td>Believing Christ: The Parable of the Bicycle and Other Good News</td><td>4.51</td></tr><tr><td>The Green Mile, Part 5: Night Journey</td><td>4.51</td></tr><tr><td>Humans of New York: Stories</td><td>4.5</td></tr><tr><td>Locke &amp; Key, Vol. 6: Alpha &amp; Omega</td><td>4.5</td></tr><tr><td>The Complete Sherlock Holmes</td><td>4.5</td></tr><tr><td>The Green Mile, Part 3: Coffey's Hands</td><td>4.5</td></tr><tr><td>Kürk Mantolu Madonna</td><td>4.49</td></tr><tr><td>The Complete Works</td><td>4.49</td></tr><tr><td>The Green Mile, Part 1: The Two Dead Girls</td><td>4.49</td></tr><tr><td>The New Jim Crow: Mass Incarceration in the Age of Colorblindness</td><td>4.49</td></tr><tr><td>A Charlie Brown Christmas</td><td>4.48</td></tr><tr><td>Assata: An Autobiography</td><td>4.48</td></tr><tr><td>Evicted: Poverty and Profit in the American City</td><td>4.48</td></tr><tr><td>Harry Potter: Film Wizardry</td><td>4.48</td></tr><tr><td>On Food and Cooking: The Science and Lore of the Kitchen</td><td>4.48</td></tr><tr><td>The Chronicles of Narnia - The Lion, the Witch, and the Wardrobe Official Illustrated Movie Companion</td><td>4.48</td></tr><tr><td>Darkest Powers Trilogy (Darkest Powers, #1-3)</td><td>4.47</td></tr><tr><td>Ficciones</td><td>4.47</td></tr><tr><td>Finding Nemo</td><td>4.47</td></tr><tr><td>Fireproof</td><td>4.47</td></tr><tr><td>Hamilton: The Revolution</td><td>4.47</td></tr><tr><td>Lonesome Dove</td><td>4.47</td></tr><tr><td>The Coldest Winter Ever</td><td>4.47</td></tr><tr><td>The Green Mile, Part 2: The Mouse on the Mile</td><td>4.47</td></tr><tr><td>The Gruffalo</td><td>4.47</td></tr><tr><td>Tramp for the Lord</td><td>4.47</td></tr><tr><td>We Should All Be Feminists</td><td>4.47</td></tr><tr><td>Shoe Dog: A Memoir by the Creator of NIKE</td><td>4.46</td></tr><tr><td>The Complete Adventures of Peter Rabbit</td><td>4.46</td></tr><tr><td>Archer's Voice</td><td>4.45</td></tr><tr><td>Harry Potter and Philosophy: If Aristotle Ran Hogwarts</td><td>4.45</td></tr><tr><td>Lover Awakened (Black Dagger Brotherhood, #3)</td><td>4.45</td></tr><tr><td>Miss Rumphius</td><td>4.45</td></tr><tr><td>Praying God's Word: Breaking Free From Spiritual Strongholds</td><td>4.45</td></tr><tr><td>Sherlock Holmes: The Complete Novels and Stories, Volume I</td><td>4.45</td></tr><tr><td>The Far Side Gallery 3</td><td>4.45</td></tr><tr><td>The Fire Next Time</td><td>4.45</td></tr><tr><td>The Help</td><td>4.45</td></tr><tr><td>The Monster at the End of this Book</td><td>4.45</td></tr><tr><td>Wicked - Piano/Vocal Arrangement</td><td>4.45</td></tr><tr><td>Ignite Me (Shatter Me, #3)</td><td>4.44</td></tr><tr><td>It Ends with Us</td><td>4.44</td></tr><tr><td>Locke &amp; Key, Vol. 4: Keys to the Kingdom</td><td>4.44</td></tr><tr><td>The Complete Stories</td><td>4.44</td></tr><tr><td>The Declaration of Independence and The Constitution of the United States</td><td>4.44</td></tr><tr><td>The Poetry of Pablo Neruda</td><td>4.44</td></tr><tr><td>Left to Tell: Discovering God Amidst the Rwandan Holocaust</td><td>4.43</td></tr><tr><td>The Wheel of Time: Boxed Set #1 (Wheel of Time, #1-3)</td><td>4.43</td></tr><tr><td>Wonder</td><td>4.43</td></tr><tr><td>رباعيات صلاح جاهين</td><td>4.43</td></tr><tr><td>Band of Brothers: E Company, 506th Regiment, 101st Airborne from Normandy to Hitler's Eagle's Nest</td><td>4.42</td></tr><tr><td>H.M.S. Surprise</td><td>4.42</td></tr><tr><td>Ina May's Guide to Childbirth</td><td>4.42</td></tr><tr><td>Nothing to Envy: Ordinary Lives in North Korea</td><td>4.42</td></tr><tr><td>The Far Side Gallery</td><td>4.42</td></tr><tr><td>The Green Mile</td><td>4.42</td></tr><tr><td>Fantastic Beasts and Where to Find Them: The Original Screenplay</td><td>4.41</td></tr><tr><td>Homegoing</td><td>4.41</td></tr><tr><td>November 9</td><td>4.41</td></tr><tr><td>Scott Pilgrim, Volume 6: Scott Pilgrim's Finest Hour</td><td>4.41</td></tr><tr><td>The Cat in the Hat and Other Dr. Seuss Favorites</td><td>4.41</td></tr><tr><td>The Day the Crayons Quit</td><td>4.41</td></tr><tr><td>The Kissing Hand</td><td>4.41</td></tr><tr><td>The Peacegiver: How Christ Offers to Heal Our Hearts and Homes</td><td>4.41</td></tr><tr><td>The Story of Ruby Bridges</td><td>4.41</td></tr><tr><td>The Weight of Glory</td><td>4.41</td></tr><tr><td>Being Mortal: Medicine and What Matters in the End</td><td>4.4</td></tr><tr><td>Between the World and Me</td><td>4.4</td></tr><tr><td>Gates of Fire: An Epic Novel of the Battle of Thermopylae</td><td>4.4</td></tr><tr><td>The Exploits of Sherlock Holmes</td><td>4.4</td></tr><tr><td>The Royal Ranger (Ranger's Apprentice, #12)</td><td>4.4</td></tr><tr><td>The Sunne in Splendour</td><td>4.4</td></tr><tr><td>Unbroken: A World War II Story of Survival, Resilience, and Redemption</td><td>4.4</td></tr><tr><td>With the Old Breed: At Peleliu and Okinawa</td><td>4.4</td></tr><tr><td>As Sure as the Dawn (Mark of the Lion, #3)</td><td>4.39</td></tr><tr><td>Beauty and the Beast</td><td>4.39</td></tr><tr><td>Every Thing on It</td><td>4.39</td></tr><tr><td>I Love You Through and Through</td><td>4.39</td></tr><tr><td>I Want My Hat Back</td><td>4.39</td></tr><tr><td>Martin Eden</td><td>4.39</td></tr><tr><td>My Utmost for His Highest</td><td>4.39</td></tr><tr><td>Red Notice: A True Story of High Finance, Murder, and One Man’s Fight for Justice</td><td>4.39</td></tr><tr><td>Stand Tall, Molly Lou Melon</td><td>4.39</td></tr><tr><td>Streams in the Desert</td><td>4.39</td></tr><tr><td>The Brothers K</td><td>4.39</td></tr><tr><td>The Lord God Made Them All</td><td>4.39</td></tr><tr><td>The Martian</td><td>4.39</td></tr><tr><td>The Truth Seeker (O'Malley #3)</td><td>4.39</td></tr><tr><td>Homicide: A Year on the Killing Streets</td><td>4.38</td></tr><tr><td>Love You to Death: The Unofficial Companion to the Vampire Diaries</td><td>4.38</td></tr><tr><td>Survivor In Death (In Death, #20)</td><td>4.38</td></tr><tr><td>The Beatles Anthology</td><td>4.38</td></tr><tr><td>The Giving Tree</td><td>4.38</td></tr><tr><td>The Looming Tower: Al-Qaeda and the Road to 9/11</td><td>4.38</td></tr><tr><td>The Power of a Praying Woman</td><td>4.38</td></tr><tr><td>The Return of the Prodigal Son: A Story of Homecoming</td><td>4.38</td></tr><tr><td>The Sandman: The Dream Hunters</td><td>4.38</td></tr><tr><td>Through Gates of Splendor</td><td>4.38</td></tr><tr><td>Twilight and History</td><td>4.38</td></tr><tr><td>A Gentleman in Moscow</td><td>4.37</td></tr><tr><td>And the Band Played On: Politics, People, and the AIDS Epidemic</td><td>4.37</td></tr><tr><td>Bumi Manusia</td><td>4.37</td></tr><tr><td>Out of My Mind</td><td>4.37</td></tr><tr><td>The Improbable Adventures of Sherlock Holmes</td><td>4.37</td></tr><tr><td>The Miracle of Forgiveness</td><td>4.37</td></tr><tr><td>The Pigeon Wants a Puppy!</td><td>4.37</td></tr><tr><td>The Wheel of Time: Boxed Set  (Wheel of Time, #1-8)</td><td>4.37</td></tr><tr><td>Wicked Deeds on a Winter's Night (Immortals After Dark #4)</td><td>4.37</td></tr><tr><td>A Monster Calls</td><td>4.36</td></tr><tr><td>A Work in Progress</td><td>4.36</td></tr><tr><td>Batman: The Killing Joke</td><td>4.36</td></tr><tr><td>Between Shades of Gray</td><td>4.36</td></tr><tr><td>Echo</td><td>4.36</td></tr><tr><td>Endurance: Shackleton's Incredible Voyage</td><td>4.36</td></tr><tr><td>Guess How Much I Love You</td><td>4.36</td></tr><tr><td>How the Grinch Stole Christmas!</td><td>4.36</td></tr><tr><td>Innocent in Death (In Death, #24)</td><td>4.36</td></tr><tr><td>Making Faces</td><td>4.36</td></tr><tr><td>Salt to the Sea</td><td>4.36</td></tr><tr><td>The Book Thief</td><td>4.36</td></tr><tr><td>The Godfather</td><td>4.36</td></tr><tr><td>The Power of the Dog</td><td>4.36</td></tr><tr><td>Y: The Last Man - The Deluxe Edition Book One</td><td>4.36</td></tr><tr><td>Chasing the Prophecy (Beyonders, #3)</td><td>4.35</td></tr><tr><td>Cosmos</td><td>4.35</td></tr><tr><td>Don't Let the Pigeon Stay Up Late!</td><td>4.35</td></tr><tr><td>East of Eden</td><td>4.35</td></tr><tr><td>Lover Eternal (Black Dagger Brotherhood, #2)</td><td>4.35</td></tr><tr><td>On the Night You Were Born</td><td>4.35</td></tr><tr><td>The Great Dune Trilogy  </td><td>4.35</td></tr><tr><td>The Holiness of God</td><td>4.35</td></tr><tr><td>The Lorax</td><td>4.35</td></tr><tr><td>The Mauritius Command</td><td>4.35</td></tr><tr><td>The Pigeon Finds a Hot Dog!</td><td>4.35</td></tr><tr><td>The Story of Ferdinand</td><td>4.35</td></tr><tr><td>Watchmen</td><td>4.35</td></tr><tr><td>A Fine Balance</td><td>4.34</td></tr><tr><td>A Light in the Attic</td><td>4.34</td></tr><tr><td>A Thousand Splendid Suns</td><td>4.34</td></tr><tr><td>Different Seasons</td><td>4.34</td></tr><tr><td>Drums of Autumn (Outlander, #4)</td><td>4.34</td></tr><tr><td>Identical</td><td>4.34</td></tr><tr><td>India After Gandhi: The History of the World's Largest Democracy</td><td>4.34</td></tr><tr><td>Janet Evanovich Three and Four Two-Book Set (Stephanie Plum, #3-4)</td><td>4.34</td></tr><tr><td>Lone Survivor: The Eyewitness Account of Operation Redwing and the Lost Heroes of SEAL Team 10</td><td>4.34</td></tr><tr><td>Love You Forever</td><td>4.34</td></tr><tr><td>Oh, The Places You'll Go!</td><td>4.34</td></tr><tr><td>Peace Is Every Step: The Path of Mindfulness in Everyday Life</td><td>4.34</td></tr><tr><td>The Book with No Pictures</td><td>4.34</td></tr><tr><td>The Last Seven Months of Anne Frank</td><td>4.34</td></tr><tr><td>The Miraculous Journey of Edward Tulane</td><td>4.34</td></tr><tr><td>The Sandman: Endless Nights</td><td>4.34</td></tr><tr><td>The Sea of Tranquility</td><td>4.34</td></tr><tr><td>The Stand</td><td>4.34</td></tr><tr><td>The Walking Dead, Vol. 14: No Way Out</td><td>4.34</td></tr><tr><td>The Wall of Winnipeg and Me</td><td>4.34</td></tr><tr><td>All-Star Superman, Vol. 2</td><td>4.33</td></tr><tr><td>Amazing Grace</td><td>4.33</td></tr><tr><td>Batman, Volume 3: Death of the Family</td><td>4.33</td></tr><tr><td>Battlefield of the Mind: Winning the Battle in Your Mind</td><td>4.33</td></tr><tr><td>Born in Death (In Death, #23)</td><td>4.33</td></tr><tr><td>Crush</td><td>4.33</td></tr><tr><td>Exodus</td><td>4.33</td></tr><tr><td>Falling Up</td><td>4.33</td></tr><tr><td>Last Chance to See</td><td>4.33</td></tr><tr><td>Mastering the Art of French Cooking</td><td>4.33</td></tr><tr><td>Preacher, Volume 8: All Hell's a-Coming</td><td>4.33</td></tr><tr><td>SantaLand Diaries</td><td>4.33</td></tr><tr><td>Scott Pilgrim, Volume 5: Scott Pilgrim Vs. the Universe</td><td>4.33</td></tr><tr><td>Taken at Dusk (Shadow Falls, #3)</td><td>4.33</td></tr><tr><td>The Arrival</td><td>4.33</td></tr><tr><td>The Dragonslayer (Bone, #4)</td><td>4.33</td></tr><tr><td>The Emperor's Soul</td><td>4.33</td></tr><tr><td>The Heavenly Man: The Remarkable True Story of Chinese Christian Brother Yun</td><td>4.33</td></tr><tr><td>The Real Mother Goose</td><td>4.33</td></tr><tr><td>Visions in Death (In Death, #19)</td><td>4.33</td></tr><tr><td>A Higher Call: An Incredible True Story of Combat and Chivalry in the War-Torn Skies of World War II</td><td>4.32</td></tr><tr><td>Battle Cry of Freedom</td><td>4.32</td></tr><tr><td>Black Lies</td><td>4.32</td></tr><tr><td>Boy's Life</td><td>4.32</td></tr><tr><td>Counterfeit Gods: The Empty Promises of Money, Sex, and Power, and the Only Hope that Matters</td><td>4.32</td></tr><tr><td>Divided in Death (In Death, #18)</td><td>4.32</td></tr><tr><td>God's Smuggler</td><td>4.32</td></tr><tr><td>If I Die (Soul Screamers, #5)</td><td>4.32</td></tr><tr><td>Mufaro's Beautiful Daughters: An African Tale</td><td>4.32</td></tr><tr><td>Out of Breath (Breathing, #3)</td><td>4.32</td></tr><tr><td>Pale Blue Dot: A Vision of the Human Future in Space</td><td>4.32</td></tr><tr><td>Plenty</td><td>4.32</td></tr><tr><td>Scott Pilgrim, Volume 4: Scott Pilgrim Gets It Together</td><td>4.32</td></tr><tr><td>The Auschwitz Escape</td><td>4.32</td></tr><tr><td>The Battle for Skandia (Ranger's Apprentice, #4)</td><td>4.32</td></tr><tr><td>The Black Dagger Brotherhood: An Insider's Guide</td><td>4.32</td></tr><tr><td>The Boys in the Boat: Nine Americans and Their Epic Quest for Gold at the 1936 Berlin Olympics</td><td>4.32</td></tr><tr><td>The Darkest Lie (Lords of the Underworld #6)</td><td>4.32</td></tr><tr><td>The Everafter War (The Sisters Grimm, #7)</td><td>4.32</td></tr><tr><td>The Love Song of J. Alfred Prufrock and Other Poems</td><td>4.32</td></tr><tr><td>The Magic Strings of Frankie Presto</td><td>4.32</td></tr><tr><td>The Making of the Atomic Bomb</td><td>4.32</td></tr><tr><td>The Memoirs of Sherlock Holmes</td><td>4.32</td></tr><tr><td>The Missing Piece Meets the Big O </td><td>4.32</td></tr><tr><td>The Paper Bag Princess</td><td>4.32</td></tr><tr><td>The Practice of the Presence of God</td><td>4.32</td></tr><tr><td>The Realms of the Gods (Immortals, #4)</td><td>4.32</td></tr><tr><td>The Secret Race: Inside the Hidden World of the Tour de France: Doping, Cover-ups, and Winning at All Costs</td><td>4.32</td></tr><tr><td>When Breath Becomes Air</td><td>4.32</td></tr><tr><td>Wild Magic (Immortals, #1)</td><td>4.32</td></tr><tr><td>Women's Bodies, Women's Wisdom: Creating Physical and Emotional Health and Healing</td><td>4.32</td></tr><tr><td>الطنطورية</td><td>4.32</td></tr><tr><td>عائد إلى حيفا</td><td>4.32</td></tr><tr><td>Anne Frank : The Biography</td><td>4.31</td></tr><tr><td>Chrysanthemum</td><td>4.31</td></tr><tr><td>Daytripper</td><td>4.31</td></tr><tr><td>Financial Peace Revisited</td><td>4.31</td></tr><tr><td>Half the Sky: Turning Oppression into Opportunity for Women Worldwide</td><td>4.31</td></tr><tr><td>Infinite Jest</td><td>4.31</td></tr><tr><td>Knowing God</td><td>4.31</td></tr><tr><td>Lilac Girls</td><td>4.31</td></tr><tr><td>Mere Christianity</td><td>4.31</td></tr><tr><td>On Writing: A Memoir of the Craft</td><td>4.31</td></tr><tr><td>The America's Test Kitchen Family Cookbook</td><td>4.31</td></tr><tr><td>The Autobiography of Martin Luther King, Jr.</td><td>4.31</td></tr><tr><td>The Endurance: Shackleton's Legendary Antarctic Expedition</td><td>4.31</td></tr><tr><td>The Little Mouse, the Red Ripe Strawberry, and the Big Hungry Bear</td><td>4.31</td></tr><tr><td>The Longest Day</td><td>4.31</td></tr><tr><td>The Power of a Praying Wife</td><td>4.31</td></tr><tr><td>The Pragmatic Programmer: From Journeyman to Master</td><td>4.31</td></tr><tr><td>The Sneetches and Other Stories</td><td>4.31</td></tr><tr><td>The Warmth of Other Suns: The Epic Story of America's Great Migration</td><td>4.31</td></tr><tr><td>The Way to Cook</td><td>4.31</td></tr><tr><td>Three Day Road</td><td>4.31</td></tr><tr><td>A Child's Garden of Verses</td><td>4.3</td></tr><tr><td>Batman, Volume 1: The Court of Owls</td><td>4.3</td></tr><tr><td>Binge</td><td>4.3</td></tr><tr><td>Cathedral</td><td>4.3</td></tr><tr><td>Citizen: An American Lyric</td><td>4.3</td></tr><tr><td>Copper Sun</td><td>4.3</td></tr><tr><td>Emperor Mage (Immortals, #3)</td><td>4.3</td></tr><tr><td>Gödel, Escher, Bach: An Eternal Golden Braid</td><td>4.3</td></tr><tr><td>Hinds' Feet on High Places</td><td>4.3</td></tr><tr><td>Judas Unchained</td><td>4.3</td></tr><tr><td>Little Bear's Friend</td><td>4.3</td></tr><tr><td>Rudolph the Red-Nosed Reindeer</td><td>4.3</td></tr><tr><td>Still Alice</td><td>4.3</td></tr><tr><td>Tatiana and Alexander (The Bronze Horseman, #2)</td><td>4.3</td></tr><tr><td>Team of Rivals: The Political Genius of Abraham Lincoln</td><td>4.3</td></tr><tr><td>Term Limits</td><td>4.3</td></tr><tr><td>The Places That Scare You: A Guide to Fearlessness in Difficult Times</td><td>4.3</td></tr><tr><td>The Power of Myth</td><td>4.3</td></tr><tr><td>The Raven and other poems</td><td>4.3</td></tr><tr><td>The Return of Sherlock Holmes</td><td>4.3</td></tr><tr><td>The Source</td><td>4.3</td></tr><tr><td>The Sweet Gum Tree</td><td>4.3</td></tr><tr><td>Ugly Love</td><td>4.3</td></tr><tr><td>We Wish to Inform You That Tomorrow We Will Be Killed with Our Families</td><td>4.3</td></tr><tr><td>11/22/63</td><td>4.29</td></tr><tr><td>A Pocket for Corduroy</td><td>4.29</td></tr><tr><td>A Return to Love: Reflections on the Principles of &quot;A Course in Miracles&quot;</td><td>4.29</td></tr><tr><td>A Thousand Boy Kisses</td><td>4.29</td></tr><tr><td>A Woman After God's Own Heart</td><td>4.29</td></tr><tr><td>Batman: The Black Mirror</td><td>4.29</td></tr><tr><td>Batman: The Long Halloween</td><td>4.29</td></tr><tr><td>Fallout (Crank, #3)</td><td>4.29</td></tr><tr><td>First They Killed My Father: A Daughter of Cambodia Remembers</td><td>4.29</td></tr><tr><td>Green Eggs and Ham</td><td>4.29</td></tr><tr><td>Matilda</td><td>4.29</td></tr><tr><td>Mistress of the Empire (The Empire Trilogy, #3)</td><td>4.29</td></tr><tr><td>Momo</td><td>4.29</td></tr><tr><td>Scott Pilgrim, Volume 3: Scott Pilgrim &amp; The Infinite Sadness</td><td>4.29</td></tr><tr><td>Sisters</td><td>4.29</td></tr><tr><td>Stalingrad: The Fateful Siege, 1942–1943</td><td>4.29</td></tr><tr><td>The Adventures of Sherlock Holmes</td><td>4.29</td></tr><tr><td>The Autobiography of Malcolm X</td><td>4.29</td></tr><tr><td>The Complete Phantom of the Opera</td><td>4.29</td></tr><tr><td>The Emperor of All Maladies: A Biography of Cancer</td><td>4.29</td></tr><tr><td>The Little House</td><td>4.29</td></tr><tr><td>The Polar Express</td><td>4.29</td></tr><tr><td>The Road to the Dark Tower: Exploring Stephen King's Magnum Opus</td><td>4.29</td></tr><tr><td>The Total Money Makeover: A Proven Plan for Financial Fitness</td><td>4.29</td></tr><tr><td>The Velveteen Rabbit</td><td>4.29</td></tr><tr><td>The Walking Dead, Vol. 10: What We Become</td><td>4.29</td></tr><tr><td>Tiny Beautiful Things: Advice on Love and Life from Dear Sugar</td><td>4.29</td></tr><tr><td>We Were Soldiers Once... and Young: Ia Drang - The Battle that Changed the War in Vietnam</td><td>4.29</td></tr><tr><td>When Things Fall Apart: Heart Advice for Difficult Times</td><td>4.29</td></tr><tr><td>Will You Please Be Quiet, Please?</td><td>4.29</td></tr><tr><td>ثلاثية غرناطة</td><td>4.29</td></tr><tr><td>Animalia</td><td>4.28</td></tr><tr><td>Black Hawk Down</td><td>4.28</td></tr><tr><td>City of Thieves</td><td>4.28</td></tr><tr><td>Corduroy</td><td>4.28</td></tr><tr><td>Curious George Takes a Job</td><td>4.28</td></tr><tr><td>Cutting for Stone</td><td>4.28</td></tr><tr><td>Fish in a Tree</td><td>4.28</td></tr><tr><td>Flotsam</td><td>4.28</td></tr><tr><td>Glass (Crank, #2)</td><td>4.28</td></tr><tr><td>Gone with the Wind</td><td>4.28</td></tr><tr><td>Good Night, Mr. Tom</td><td>4.28</td></tr><tr><td>Hairy Maclary from Donaldson's Dairy</td><td>4.28</td></tr><tr><td>Half of a Yellow Sun</td><td>4.28</td></tr><tr><td>Her Mother's Hope (Marta's Legacy, #1)</td><td>4.28</td></tr><tr><td>Llama Llama Mad at Mama</td><td>4.28</td></tr><tr><td>Loving Mr. Daniels</td><td>4.28</td></tr><tr><td>Once We Were Brothers</td><td>4.28</td></tr><tr><td>Starlight (Warriors: The New Prophecy, #4)</td><td>4.28</td></tr><tr><td>Stone Soup</td><td>4.28</td></tr><tr><td>Stoner</td><td>4.28</td></tr><tr><td>Swan Song</td><td>4.28</td></tr><tr><td>The Book on the Taboo Against Knowing Who You Are</td><td>4.28</td></tr><tr><td>The Cartel</td><td>4.28</td></tr><tr><td>The Great Divorce</td><td>4.28</td></tr><tr><td>The Lords of Discipline</td><td>4.28</td></tr><tr><td>The Pursuit of Holiness</td><td>4.28</td></tr><tr><td>The Raven</td><td>4.28</td></tr><tr><td>The Snowman</td><td>4.28</td></tr><tr><td>This Side of the Grave (Night Huntress, #5)</td><td>4.28</td></tr><tr><td>Unravel Me (Shatter Me, #2)</td><td>4.28</td></tr><tr><td>A Little Life</td><td>4.27</td></tr><tr><td>Amelia Bedelia and the Surprise Shower</td><td>4.27</td></tr><tr><td>Angle of Repose</td><td>4.27</td></tr><tr><td>Be Here Now</td><td>4.27</td></tr><tr><td>Born to Run: A Hidden Tribe, Superathletes, and the Greatest Race the World Has Never Seen</td><td>4.27</td></tr><tr><td>Coming Home</td><td>4.27</td></tr><tr><td>Eragon &amp; Eldest (Inheritance, #1-2)</td><td>4.27</td></tr><tr><td>Hark! A Vagrant</td><td>4.27</td></tr><tr><td>Hawkeye, Volume 2: Little Hits</td><td>4.27</td></tr><tr><td>Madeline and the Bad Hat</td><td>4.27</td></tr><tr><td>Mastery</td><td>4.27</td></tr><tr><td>Mila 18</td><td>4.27</td></tr><tr><td>Milk and Honey</td><td>4.27</td></tr><tr><td>Roller Girl</td><td>4.27</td></tr><tr><td>Servant of the Empire (The Empire Trilogy, #2)</td><td>4.27</td></tr><tr><td>Stone Butch Blues</td><td>4.27</td></tr><tr><td>Stories of Your Life and Others</td><td>4.27</td></tr><tr><td>Taken by Midnight (Midnight Breed, #8)</td><td>4.27</td></tr><tr><td>The Demon-Haunted World: Science as a Candle in the Dark</td><td>4.27</td></tr><tr><td>The Hidden Messages in Water</td><td>4.27</td></tr><tr><td>The Lions of Al-Rassan</td><td>4.27</td></tr><tr><td>The Missing Piece</td><td>4.27</td></tr><tr><td>The Napping House</td><td>4.27</td></tr><tr><td>The Song of Achilles</td><td>4.27</td></tr><tr><td>The Stories of John Cheever</td><td>4.27</td></tr><tr><td>We're Going on a Bear Hunt</td><td>4.27</td></tr><tr><td>13 Hours: The Inside Account of What Really Happened In Benghazi</td><td>4.26</td></tr><tr><td>A Grief Observed</td><td>4.26</td></tr><tr><td>Addicted</td><td>4.26</td></tr><tr><td>Alexander Hamilton</td><td>4.26</td></tr><tr><td>Americanah</td><td>4.26</td></tr><tr><td>Any Human Heart</td><td>4.26</td></tr><tr><td>Barefoot Contessa Family Style: Easy Ideas and Recipes That Make Everyone Feel Like Family</td><td>4.26</td></tr><tr><td>Batman, Volume 2: The City of Owls</td><td>4.26</td></tr><tr><td>Bloodhound (Beka Cooper, #2)</td><td>4.26</td></tr><tr><td>Columbine</td><td>4.26</td></tr><tr><td>Essentials of Classic Italian Cooking</td><td>4.26</td></tr><tr><td>Far from the Tree: Parents, Children, and the Search for Identity</td><td>4.26</td></tr><tr><td>Fried Green Tomatoes at the Whistle Stop Cafe</td><td>4.26</td></tr><tr><td>Go the Fuck to Sleep</td><td>4.26</td></tr><tr><td>Lamb: The Gospel According to Biff, Christ's Childhood Pal</td><td>4.26</td></tr><tr><td>Les Fleurs du Mal</td><td>4.26</td></tr><tr><td>Shantaram</td><td>4.26</td></tr><tr><td>Simon vs. the Homo Sapiens Agenda</td><td>4.26</td></tr><tr><td>The Atonement Child</td><td>4.26</td></tr><tr><td>The Big Short: Inside the Doomsday Machine</td><td>4.26</td></tr><tr><td>The Charm School</td><td>4.26</td></tr><tr><td>The Dot</td><td>4.26</td></tr><tr><td>The Fault in Our Stars</td><td>4.26</td></tr><tr><td>The Field of Swords (Emperor, #3)</td><td>4.26</td></tr><tr><td>The Kite Runner</td><td>4.26</td></tr><tr><td>The Lord of the Rings Sketchbook</td><td>4.26</td></tr><tr><td>The Storyteller</td><td>4.26</td></tr><tr><td>Unveiled: Tamar (Lineage of Grace #1)</td><td>4.26</td></tr><tr><td>Very Good Lives: The Fringe Benefits of Failure and the Importance of Imagination</td><td>4.26</td></tr><tr><td>A Bargain for Frances</td><td>4.25</td></tr><tr><td>A Color of His Own</td><td>4.25</td></tr><tr><td>A Sick Day for Amos McGee</td><td>4.25</td></tr><tr><td>Anne Frank: Beyond the Diary - A Photographic Remembrance</td><td>4.25</td></tr><tr><td>Barnyard Dance</td><td>4.25</td></tr><tr><td>Bear Snores On</td><td>4.25</td></tr><tr><td>Betty Crocker's Cookbook</td><td>4.25</td></tr><tr><td>Come Back, Amelia Bedelia</td><td>4.25</td></tr><tr><td>Cryptonomicon</td><td>4.25</td></tr><tr><td>Curious George Visits the Library</td><td>4.25</td></tr><tr><td>Foxe's Book of Martyrs</td><td>4.25</td></tr><tr><td>Frosty the Snow Man</td><td>4.25</td></tr><tr><td>Good Omens: The Nice and Accurate Prophecies of Agnes Nutter, Witch</td><td>4.25</td></tr><tr><td>How I Raised Myself from Failure to Success in Selling</td><td>4.25</td></tr><tr><td>In Harm's Way: The Sinking of the U.S.S. Indianapolis and the Extraordinary Story of Its Survivors</td><td>4.25</td></tr><tr><td>Justice: What's the Right Thing to Do?</td><td>4.25</td></tr><tr><td>Little Princes: One Man's Promise to Bring Home the Lost Children of Nepal</td><td>4.25</td></tr><tr><td>Magician: Master (The Riftwar Saga, #2)</td><td>4.25</td></tr><tr><td>Mystery Man (Dream Man, #1)</td><td>4.25</td></tr><tr><td>Nicholas and Alexandra</td><td>4.25</td></tr><tr><td>One Grave at a Time (Night Huntress, #6)</td><td>4.25</td></tr><tr><td>Owen</td><td>4.25</td></tr><tr><td>Phantoms in the Brain: Probing the Mysteries of the Human Mind</td><td>4.25</td></tr><tr><td>Practicing the Power of Now: Essential Teachings, Meditations, and Exercises from the Power of Now</td><td>4.25</td></tr><tr><td>Saving Grace</td><td>4.25</td></tr><tr><td>Seeds of Rebellion (Beyonders, #2)</td><td>4.25</td></tr><tr><td>Skippyjon Jones</td><td>4.25</td></tr><tr><td>The Call of Cthulhu and Other Weird Stories</td><td>4.25</td></tr><tr><td>The Collected Poems of W.B. Yeats</td><td>4.25</td></tr><tr><td>The Day of the Jackal</td><td>4.25</td></tr><tr><td>The Death of Kings (Emperor, #2)</td><td>4.25</td></tr><tr><td>The Earthsea Trilogy</td><td>4.25</td></tr><tr><td>The Evolutionary Void</td><td>4.25</td></tr><tr><td>The Hat</td><td>4.25</td></tr><tr><td>The Last Lecture</td><td>4.25</td></tr><tr><td>The Little Old Lady Who Was Not Afraid of Anything</td><td>4.25</td></tr><tr><td>The Princess Bride </td><td>4.25</td></tr><tr><td>The Rise of Theodore Roosevelt</td><td>4.25</td></tr><tr><td>The Taste of Home Cookbook</td><td>4.25</td></tr><tr><td>There are No Children Here: The Story of Two Boys Growing Up in the Other America</td><td>4.25</td></tr><tr><td>To Kill a Mockingbird</td><td>4.25</td></tr><tr><td>Trials of Death (Cirque Du Freak, #5)</td><td>4.25</td></tr><tr><td>V for Vendetta</td><td>4.25</td></tr><tr><td>What the Bleep Do We Know!?: Discovering the Endless Possibilities for Altering Your Everyday Reality</td><td>4.25</td></tr><tr><td>A Bad Case of Stripes</td><td>4.24</td></tr><tr><td>A Bridge Too Far</td><td>4.24</td></tr><tr><td>A Leaf on the Wind of All Hallows (Outlander, #8.5)</td><td>4.24</td></tr><tr><td>A Tree Grows in Brooklyn</td><td>4.24</td></tr><tr><td>All My Friends Are Dead</td><td>4.24</td></tr><tr><td>Beyond Band of Brothers: The War Memoirs of Major Dick Winters</td><td>4.24</td></tr><tr><td>Change Your Thoughts - Change Your Life: Living the Wisdom of the Tao</td><td>4.24</td></tr><tr><td>Creativity, Inc.: Overcoming the Unseen Forces That Stand in the Way of True Inspiration</td><td>4.24</td></tr><tr><td>Curious George Rides a Bike</td><td>4.24</td></tr><tr><td>Dispatches</td><td>4.24</td></tr><tr><td>Dom Casmurro</td><td>4.24</td></tr><tr><td>Driving Miss Daisy</td><td>4.24</td></tr><tr><td>Each Peach Pear Plum</td><td>4.24</td></tr><tr><td>Glory over Everything: Beyond The Kitchen House</td><td>4.24</td></tr><tr><td>Harold and the Purple Crayon</td><td>4.24</td></tr><tr><td>If You Give a Mouse a Cookie</td><td>4.24</td></tr><tr><td>Jitterbug Perfume</td><td>4.24</td></tr><tr><td>Just Me in the Tub (Mercer Mayer's Little Critter)</td><td>4.24</td></tr><tr><td>Kingdom Come</td><td>4.24</td></tr><tr><td>Madeline's Rescue</td><td>4.24</td></tr><tr><td>Money, and the Law of Attraction: Learning to Attract Wealth, Health, and Happiness</td><td>4.24</td></tr><tr><td>Moneyball: The Art of Winning an Unfair Game</td><td>4.24</td></tr><tr><td>Once Burned (Night Prince, #1)</td><td>4.24</td></tr><tr><td>Pandora's Star</td><td>4.24</td></tr><tr><td>Pride and Prejudice</td><td>4.24</td></tr><tr><td>Sailing Alone Around the Room: New and Selected Poems</td><td>4.24</td></tr><tr><td>Scott Pilgrim, Volume 2: Scott Pilgrim vs. The World</td><td>4.24</td></tr><tr><td>Smiley's People</td><td>4.24</td></tr><tr><td>Sometimes a Great Notion</td><td>4.24</td></tr><tr><td>The Glass Castle</td><td>4.24</td></tr><tr><td>The Hating Game</td><td>4.24</td></tr><tr><td>The Hero With a Thousand Faces</td><td>4.24</td></tr><tr><td>The One and Only Ivan</td><td>4.24</td></tr><tr><td>The Orenda</td><td>4.24</td></tr><tr><td>The River Why</td><td>4.24</td></tr><tr><td>The Souls of Black Folk</td><td>4.24</td></tr><tr><td>The Temporal Void</td><td>4.24</td></tr><tr><td>Where the Mountain Meets the Moon</td><td>4.24</td></tr><tr><td>A Knight in Shining Armor</td><td>4.23</td></tr><tr><td>Ariel</td><td>4.23</td></tr><tr><td>Barefoot Contessa Back to Basics</td><td>4.23</td></tr><tr><td>Batman: Year One</td><td>4.23</td></tr><tr><td>Bonhoeffer: Pastor, Martyr, Prophet, Spy</td><td>4.23</td></tr><tr><td>Click, Clack, Moo: Cows That Type</td><td>4.23</td></tr><tr><td>Complications: A Surgeon's Notes on an Imperfect Science</td><td>4.23</td></tr><tr><td>If You Give a Pig a Pancake </td><td>4.23</td></tr><tr><td>Memórias Póstumas de Brás Cubas</td><td>4.23</td></tr><tr><td>On Writing Well: The Classic Guide to Writing Nonfiction</td><td>4.23</td></tr><tr><td>Orthodoxy</td><td>4.23</td></tr><tr><td>Papillon</td><td>4.23</td></tr><tr><td>QED: The Strange Theory of Light and Matter</td><td>4.23</td></tr><tr><td>Random Family: Love, Drugs, Trouble, and Coming of Age in the Bronx</td><td>4.23</td></tr><tr><td>Savage Inequalities: Children in America's Schools</td><td>4.23</td></tr><tr><td>Snowmen at Night</td><td>4.23</td></tr><tr><td>Systematic Theology: An Introduction to Biblical Doctrine</td><td>4.23</td></tr><tr><td>The Blue Castle </td><td>4.23</td></tr><tr><td>The Caine Mutiny</td><td>4.23</td></tr><tr><td>The Complete Adventures of Curious George</td><td>4.23</td></tr><tr><td>The Five Love Languages: How to Express Heartfelt Commitment to Your Mate</td><td>4.23</td></tr><tr><td>The Invention of Hugo Cabret</td><td>4.23</td></tr><tr><td>The Invention of Wings</td><td>4.23</td></tr><tr><td>The Jordan Rules</td><td>4.23</td></tr><tr><td>The Ragamuffin Gospel: Good News for the Bedraggled, Beat-Up, and Burnt Out</td><td>4.23</td></tr><tr><td>The Right Stuff</td><td>4.23</td></tr><tr><td>The Tiger Who Came to Tea</td><td>4.23</td></tr><tr><td>The Vampire Prince (Cirque Du Freak, #6)</td><td>4.23</td></tr><tr><td>The Walking Dead, Vol. 13: Too Far Gone</td><td>4.23</td></tr><tr><td>The Waste Land and Other Poems</td><td>4.23</td></tr><tr><td>This is Not My Hat</td><td>4.23</td></tr><tr><td>Twilight: The Complete Illustrated Movie Companion</td><td>4.23</td></tr><tr><td>When Crickets Cry</td><td>4.23</td></tr><tr><td>Wild Swans: Three Daughters of China</td><td>4.23</td></tr><tr><td>A Different Blue</td><td>4.22</td></tr><tr><td>A Mango-Shaped Space</td><td>4.22</td></tr><tr><td>A Prayer for Owen Meany</td><td>4.22</td></tr><tr><td>Alexander and the Terrible, Horrible, No Good, Very Bad Day</td><td>4.22</td></tr><tr><td>America's First Daughter</td><td>4.22</td></tr><tr><td>Autobiography of a Yogi</td><td>4.22</td></tr><tr><td>Barbarians at the Gate: The Fall of RJR Nabisco</td><td>4.22</td></tr><tr><td>Bird by Bird: Some Instructions on Writing and Life</td><td>4.22</td></tr><tr><td>Cinderella</td><td>4.22</td></tr><tr><td>CivilWarLand in Bad Decline</td><td>4.22</td></tr><tr><td>Curious George Goes to the Hospital</td><td>4.22</td></tr><tr><td>David Gets In Trouble</td><td>4.22</td></tr><tr><td>Desert Solitaire</td><td>4.22</td></tr><tr><td>Do No Harm: Stories of Life, Death and Brain Surgery</td><td>4.22</td></tr><tr><td>Dragon Slippers (Dragon Slippers, #1)</td><td>4.22</td></tr><tr><td>Fermat's Enigma: The Epic Quest to Solve the World's Greatest Mathematical Problem</td><td>4.22</td></tr><tr><td>Hand, Hand, Fingers, Thumb</td><td>4.22</td></tr><tr><td>Honor's Splendour</td><td>4.22</td></tr><tr><td>Just Go to Bed</td><td>4.22</td></tr><tr><td>Killers of the Dawn (Cirque Du Freak, #9)</td><td>4.22</td></tr><tr><td>Little Bear</td><td>4.22</td></tr><tr><td>Lord of the Shadows (Cirque Du Freak, #11)</td><td>4.22</td></tr><tr><td>Love Comes Softly (Love Comes Softly, #1)</td><td>4.22</td></tr><tr><td>Manufacturing Consent: The Political Economy of the Mass Media</td><td>4.22</td></tr><tr><td>Marching Powder: A True Story of Friendship, Cocaine, and South America's Strangest Jail</td><td>4.22</td></tr><tr><td>Punk 57</td><td>4.22</td></tr><tr><td>Rome (Marked Men, #3)</td><td>4.22</td></tr><tr><td>Selected Poems</td><td>4.22</td></tr><tr><td>Stellaluna</td><td>4.22</td></tr><tr><td>Stephen King's N.</td><td>4.22</td></tr><tr><td>Strega Nona</td><td>4.22</td></tr><tr><td>The BFG</td><td>4.22</td></tr><tr><td>The Crossover</td><td>4.22</td></tr><tr><td>The Gift of Therapy: An Open Letter to a New Generation of Therapists and Their Patients</td><td>4.22</td></tr><tr><td>The Going-To-Bed Book</td><td>4.22</td></tr><tr><td>The Lions of Little Rock</td><td>4.22</td></tr><tr><td>The Phantom Tollbooth</td><td>4.22</td></tr><tr><td>The Prince of Tides</td><td>4.22</td></tr><tr><td>The Prize</td><td>4.22</td></tr><tr><td>The Prophet</td><td>4.22</td></tr><tr><td>The Recruit (Cherub, #1)</td><td>4.22</td></tr><tr><td>The Shock Doctrine: The Rise of Disaster Capitalism</td><td>4.22</td></tr><tr><td>The Tell-Tale Heart</td><td>4.22</td></tr><tr><td>The Thorn Birds</td><td>4.22</td></tr><tr><td>The Tibetan Book of Living and Dying</td><td>4.22</td></tr><tr><td>The Unlikely Spy</td><td>4.22</td></tr><tr><td>Wait for It</td><td>4.22</td></tr><tr><td>War</td><td>4.22</td></tr><tr><td>Wemberly Worried</td><td>4.22</td></tr><tr><td>Where Is God When It Hurts?</td><td>4.22</td></tr><tr><td>Where the Wild Things Are</td><td>4.22</td></tr><tr><td>Wild Seed (Patternmaster, #1)</td><td>4.22</td></tr><tr><td>A Fish Out of Water</td><td>4.21</td></tr><tr><td>Bury My Heart at Wounded Knee: An Indian History of the American West</td><td>4.21</td></tr><tr><td>Calling Me Home</td><td>4.21</td></tr><tr><td>Centennial</td><td>4.21</td></tr><tr><td>Chicka Chicka Boom Boom</td><td>4.21</td></tr><tr><td>Dead Poets Society</td><td>4.21</td></tr><tr><td>Disappearing Acts</td><td>4.21</td></tr><tr><td>Envy (Fallen Angels, #3)</td><td>4.21</td></tr><tr><td>Follow the River</td><td>4.21</td></tr><tr><td>Friends and Lovers</td><td>4.21</td></tr><tr><td>Gifted Hands: The Ben Carson Story</td><td>4.21</td></tr><tr><td>Giovanni's Room</td><td>4.21</td></tr><tr><td>Go Away, Big Green Monster!</td><td>4.21</td></tr><tr><td>I'm Just Here for the Food: Food + Heat = Cooking</td><td>4.21</td></tr><tr><td>Kiss an Angel</td><td>4.21</td></tr><tr><td>Make Way for Ducklings</td><td>4.21</td></tr><tr><td>Marvels</td><td>4.21</td></tr><tr><td>Mother Night</td><td>4.21</td></tr><tr><td>Mountains Beyond Mountains: The Quest of Dr. Paul Farmer, A Man Who Would Cure the World</td><td>4.21</td></tr><tr><td>Panda Bear, Panda Bear, What Do You See?</td><td>4.21</td></tr><tr><td>Planetary, Volume 1: All Over the World and Other Stories</td><td>4.21</td></tr><tr><td>Run Baby Run</td><td>4.21</td></tr><tr><td>Same Kind of Different as Me</td><td>4.21</td></tr><tr><td>The Barefoot Contessa Cookbook</td><td>4.21</td></tr><tr><td>The Complete Poems of Emily Dickinson</td><td>4.21</td></tr><tr><td>The End of Eternity</td><td>4.21</td></tr><tr><td>The Five Love Languages of Children</td><td>4.21</td></tr><tr><td>The Heretic Queen</td><td>4.21</td></tr><tr><td>The Little Red Caboose (Little Golden Book)</td><td>4.21</td></tr><tr><td>The Miracle Worker</td><td>4.21</td></tr><tr><td>The Mixed-Up Chameleon</td><td>4.21</td></tr><tr><td>The Perks of Being a Wallflower</td><td>4.21</td></tr><tr><td>The Wishing Spell (The Land of Stories, #1)</td><td>4.21</td></tr><tr><td>Tikki Tikki Tembo</td><td>4.21</td></tr><tr><td>Unlimited Power : The New Science Of Personal Achievement</td><td>4.21</td></tr><tr><td>What's So Amazing About Grace?</td><td>4.21</td></tr><tr><td>Wolf-Speaker (Immortals, #2)</td><td>4.21</td></tr><tr><td>استمتع بحياتك</td><td>4.21</td></tr><tr><td>المانيفستو</td><td>4.21</td></tr><tr><td>2666</td><td>4.2</td></tr><tr><td>A Chair for My Mother</td><td>4.2</td></tr><tr><td>A House in the Sky</td><td>4.2</td></tr><tr><td>A Little Princess</td><td>4.2</td></tr><tr><td>ABNKKBSNPLAKo?! (Mga Kwentong Chalk ni Bob Ong)</td><td>4.2</td></tr><tr><td>Amadeus</td><td>4.2</td></tr><tr><td>August: Osage County</td><td>4.2</td></tr><tr><td>Big Little Lies</td><td>4.2</td></tr><tr><td>Bread and Jam for Frances</td><td>4.2</td></tr><tr><td>Christy</td><td>4.2</td></tr><tr><td>Collected Poems</td><td>4.2</td></tr><tr><td>Eloise </td><td>4.2</td></tr><tr><td>Eragon, Eldest &amp; Brisingr (Inheritance, #1-3)</td><td>4.2</td></tr><tr><td>Every Last Word</td><td>4.2</td></tr><tr><td>Fight Club</td><td>4.2</td></tr><tr><td>Good Night, Gorilla</td><td>4.2</td></tr><tr><td>Hafalan Shalat Delisa</td><td>4.2</td></tr><tr><td>If You Give a Cat a Cupcake</td><td>4.2</td></tr><tr><td>Infidel</td><td>4.2</td></tr><tr><td>Jaya: An Illustrated Retelling of the Mahabharata</td><td>4.2</td></tr><tr><td>Lilly's Purple Plastic Purse</td><td>4.2</td></tr><tr><td>Malcolm X: A Life of Reinvention</td><td>4.2</td></tr><tr><td>Malgudi Days</td><td>4.2</td></tr><tr><td>Mike Mulligan and His Steam Shovel</td><td>4.2</td></tr><tr><td>Nimona</td><td>4.2</td></tr><tr><td>No Ordinary Time: Franklin and Eleanor Roosevelt: The Home Front in World War II</td><td>4.2</td></tr><tr><td>Oscar et la dame rose</td><td>4.2</td></tr><tr><td>Our Band Could Be Your Life: Scenes from the American Indie Underground 1981-1991</td><td>4.2</td></tr><tr><td>Owl Moon</td><td>4.2</td></tr><tr><td>Palestine</td><td>4.2</td></tr><tr><td>Rebecca</td><td>4.2</td></tr><tr><td>Romancing Mister Bridgerton (Bridgertons, #4)</td><td>4.2</td></tr><tr><td>Small Sacrifices: A True Story of Passion and Murder</td><td>4.2</td></tr><tr><td>The Bane Chronicles</td><td>4.2</td></tr><tr><td>The Brain That Changes Itself: Stories of Personal Triumph from the Frontiers of Brain Science</td><td>4.2</td></tr><tr><td>The Cake Bible</td><td>4.2</td></tr><tr><td>The Case of Charles Dexter Ward</td><td>4.2</td></tr><tr><td>The Case-Book of Sherlock Holmes</td><td>4.2</td></tr><tr><td>The Collected Poems</td><td>4.2</td></tr><tr><td>The Cross and the Switchblade</td><td>4.2</td></tr><tr><td>The Far Pavilions</td><td>4.2</td></tr><tr><td>The Hard Thing About Hard Things: Building a Business When There Are No Easy Answers</td><td>4.2</td></tr><tr><td>The Little Red Hen (Little Golden Book)</td><td>4.2</td></tr><tr><td>The Lost Wife</td><td>4.2</td></tr><tr><td>The Reason for God: Belief in an Age of Skepticism</td><td>4.2</td></tr><tr><td>The Relatives Came</td><td>4.2</td></tr><tr><td>The Robe</td><td>4.2</td></tr><tr><td>The Stinky Cheese Man and Other Fairly Stupid Tales</td><td>4.2</td></tr><tr><td>There Was an Old Lady Who Swallowed a Fly</td><td>4.2</td></tr><tr><td>Tilt</td><td>4.2</td></tr><tr><td>Touching the Void: The True Story of One Man's Miraculous Survival</td><td>4.2</td></tr><tr><td>Zami: A New Spelling of My Name</td><td>4.2</td></tr></table>"
                    },
                    "metadata": {}
                }
            ],
            "execution_count": 11
        },
        {
            "cell_type": "markdown",
            "source": [
                "## QUESTION 4:  Thisbe\n",
                "\n",
                "Thisbe is planning to make a long-term display of popular books that she will update monthly, reflecting different time periods.  She wants to make it reader-centric by including titles that readers have averagely rated higher than the book's actual average rating. \n",
                "\n",
                "**Part A:**   Write a query that compares the publication time with average reader ratings.\n",
                "\n",
                "**Part B:**  She wants the list ordered by year, then the book title"
            ],
            "metadata": {
                "azdata_cell_guid": "c3cb4fa8-802c-4130-8740-2adf20ec6a15"
            },
            "attachments": {}
        },
        {
            "cell_type": "code",
            "source": [
                "-- Code here:\n",
                "SELECT b.title, b.original_publication_year, b.average_rating\n",
                "FROM BooksDB.dbo.books as b \n",
                "JOIN BooksDB.dbo.ratings as r \n",
                "ON b.book_id= r.book_id\n",
                "WHERE b.average_rating < \n",
                "      (select avg(r.rating)\n",
                "       FROM BooksDB.dbo.ratings as r\n",
                "       )  \n",
                "ORDER by b.original_publication_year desc    "
            ],
            "metadata": {
                "azdata_cell_guid": "164e0a22-349f-45ed-afe8-0753d5a8c6fc",
                "tags": [],
                "language": "sql"
            },
            "outputs": [
                {
                    "output_type": "display_data",
                    "data": {
                        "text/html": "(193 rows affected)"
                    },
                    "metadata": {}
                },
                {
                    "output_type": "display_data",
                    "data": {
                        "text/html": "Total execution time: 00:00:00.220"
                    },
                    "metadata": {}
                },
                {
                    "output_type": "execute_result",
                    "execution_count": 25,
                    "data": {
                        "application/vnd.dataresource+json": {
                            "schema": {
                                "fields": [
                                    {
                                        "name": "title"
                                    },
                                    {
                                        "name": "original_publication_year"
                                    },
                                    {
                                        "name": "average_rating"
                                    }
                                ]
                            },
                            "data": [
                                {
                                    "0": "The Emperor's Children",
                                    "1": "2006",
                                    "2": "2.93"
                                },
                                {
                                    "0": "The Emperor's Children",
                                    "1": "2006",
                                    "2": "2.93"
                                },
                                {
                                    "0": "The Emperor's Children",
                                    "1": "2006",
                                    "2": "2.93"
                                },
                                {
                                    "0": "The Emperor's Children",
                                    "1": "2006",
                                    "2": "2.93"
                                },
                                {
                                    "0": "The Emperor's Children",
                                    "1": "2006",
                                    "2": "2.93"
                                },
                                {
                                    "0": "The Emperor's Children",
                                    "1": "2006",
                                    "2": "2.93"
                                },
                                {
                                    "0": "The Emperor's Children",
                                    "1": "2006",
                                    "2": "2.93"
                                },
                                {
                                    "0": "The Emperor's Children",
                                    "1": "2006",
                                    "2": "2.93"
                                },
                                {
                                    "0": "The Emperor's Children",
                                    "1": "2006",
                                    "2": "2.93"
                                },
                                {
                                    "0": "The Emperor's Children",
                                    "1": "2006",
                                    "2": "2.93"
                                },
                                {
                                    "0": "The Emperor's Children",
                                    "1": "2006",
                                    "2": "2.93"
                                },
                                {
                                    "0": "The Emperor's Children",
                                    "1": "2006",
                                    "2": "2.93"
                                },
                                {
                                    "0": "The Emperor's Children",
                                    "1": "2006",
                                    "2": "2.93"
                                },
                                {
                                    "0": "The Emperor's Children",
                                    "1": "2006",
                                    "2": "2.93"
                                },
                                {
                                    "0": "The Emperor's Children",
                                    "1": "2006",
                                    "2": "2.93"
                                },
                                {
                                    "0": "The Emperor's Children",
                                    "1": "2006",
                                    "2": "2.93"
                                },
                                {
                                    "0": "The Emperor's Children",
                                    "1": "2006",
                                    "2": "2.93"
                                },
                                {
                                    "0": "The Emperor's Children",
                                    "1": "2006",
                                    "2": "2.93"
                                },
                                {
                                    "0": "The Emperor's Children",
                                    "1": "2006",
                                    "2": "2.93"
                                },
                                {
                                    "0": "The Emperor's Children",
                                    "1": "2006",
                                    "2": "2.93"
                                },
                                {
                                    "0": "The Emperor's Children",
                                    "1": "2006",
                                    "2": "2.93"
                                },
                                {
                                    "0": "The Emperor's Children",
                                    "1": "2006",
                                    "2": "2.93"
                                },
                                {
                                    "0": "The Emperor's Children",
                                    "1": "2006",
                                    "2": "2.93"
                                },
                                {
                                    "0": "The Emperor's Children",
                                    "1": "2006",
                                    "2": "2.93"
                                },
                                {
                                    "0": "The Emperor's Children",
                                    "1": "2006",
                                    "2": "2.93"
                                },
                                {
                                    "0": "The Emperor's Children",
                                    "1": "2006",
                                    "2": "2.93"
                                },
                                {
                                    "0": "The Emperor's Children",
                                    "1": "2006",
                                    "2": "2.93"
                                },
                                {
                                    "0": "The Emperor's Children",
                                    "1": "2006",
                                    "2": "2.93"
                                },
                                {
                                    "0": "The Emperor's Children",
                                    "1": "2006",
                                    "2": "2.93"
                                },
                                {
                                    "0": "The Emperor's Children",
                                    "1": "2006",
                                    "2": "2.93"
                                },
                                {
                                    "0": "The Emperor's Children",
                                    "1": "2006",
                                    "2": "2.93"
                                },
                                {
                                    "0": "The Emperor's Children",
                                    "1": "2006",
                                    "2": "2.93"
                                },
                                {
                                    "0": "The Emperor's Children",
                                    "1": "2006",
                                    "2": "2.93"
                                },
                                {
                                    "0": "The Emperor's Children",
                                    "1": "2006",
                                    "2": "2.93"
                                },
                                {
                                    "0": "The Emperor's Children",
                                    "1": "2006",
                                    "2": "2.93"
                                },
                                {
                                    "0": "The Emperor's Children",
                                    "1": "2006",
                                    "2": "2.93"
                                },
                                {
                                    "0": "The Emperor's Children",
                                    "1": "2006",
                                    "2": "2.93"
                                },
                                {
                                    "0": "The Emperor's Children",
                                    "1": "2006",
                                    "2": "2.93"
                                },
                                {
                                    "0": "The Emperor's Children",
                                    "1": "2006",
                                    "2": "2.93"
                                },
                                {
                                    "0": "The Emperor's Children",
                                    "1": "2006",
                                    "2": "2.93"
                                },
                                {
                                    "0": "The Emperor's Children",
                                    "1": "2006",
                                    "2": "2.93"
                                },
                                {
                                    "0": "The Emperor's Children",
                                    "1": "2006",
                                    "2": "2.93"
                                },
                                {
                                    "0": "The Emperor's Children",
                                    "1": "2006",
                                    "2": "2.93"
                                },
                                {
                                    "0": "The Emperor's Children",
                                    "1": "2006",
                                    "2": "2.93"
                                },
                                {
                                    "0": "The Emperor's Children",
                                    "1": "2006",
                                    "2": "2.93"
                                },
                                {
                                    "0": "The Emperor's Children",
                                    "1": "2006",
                                    "2": "2.93"
                                },
                                {
                                    "0": "The Emperor's Children",
                                    "1": "2006",
                                    "2": "2.93"
                                },
                                {
                                    "0": "The Emperor's Children",
                                    "1": "2006",
                                    "2": "2.93"
                                },
                                {
                                    "0": "The Emperor's Children",
                                    "1": "2006",
                                    "2": "2.93"
                                },
                                {
                                    "0": "The Emperor's Children",
                                    "1": "2006",
                                    "2": "2.93"
                                },
                                {
                                    "0": "The Emperor's Children",
                                    "1": "2006",
                                    "2": "2.93"
                                },
                                {
                                    "0": "The Emperor's Children",
                                    "1": "2006",
                                    "2": "2.93"
                                },
                                {
                                    "0": "The Emperor's Children",
                                    "1": "2006",
                                    "2": "2.93"
                                },
                                {
                                    "0": "The Emperor's Children",
                                    "1": "2006",
                                    "2": "2.93"
                                },
                                {
                                    "0": "The Emperor's Children",
                                    "1": "2006",
                                    "2": "2.93"
                                },
                                {
                                    "0": "The Emperor's Children",
                                    "1": "2006",
                                    "2": "2.93"
                                },
                                {
                                    "0": "The Emperor's Children",
                                    "1": "2006",
                                    "2": "2.93"
                                },
                                {
                                    "0": "The Emperor's Children",
                                    "1": "2006",
                                    "2": "2.93"
                                },
                                {
                                    "0": "The Emperor's Children",
                                    "1": "2006",
                                    "2": "2.93"
                                },
                                {
                                    "0": "The Emperor's Children",
                                    "1": "2006",
                                    "2": "2.93"
                                },
                                {
                                    "0": "The Emperor's Children",
                                    "1": "2006",
                                    "2": "2.93"
                                },
                                {
                                    "0": "The Emperor's Children",
                                    "1": "2006",
                                    "2": "2.93"
                                },
                                {
                                    "0": "The Emperor's Children",
                                    "1": "2006",
                                    "2": "2.93"
                                },
                                {
                                    "0": "The Emperor's Children",
                                    "1": "2006",
                                    "2": "2.93"
                                },
                                {
                                    "0": "The Emperor's Children",
                                    "1": "2006",
                                    "2": "2.93"
                                },
                                {
                                    "0": "The Emperor's Children",
                                    "1": "2006",
                                    "2": "2.93"
                                },
                                {
                                    "0": "The Emperor's Children",
                                    "1": "2006",
                                    "2": "2.93"
                                },
                                {
                                    "0": "The Emperor's Children",
                                    "1": "2006",
                                    "2": "2.93"
                                },
                                {
                                    "0": "The Emperor's Children",
                                    "1": "2006",
                                    "2": "2.93"
                                },
                                {
                                    "0": "The Emperor's Children",
                                    "1": "2006",
                                    "2": "2.93"
                                },
                                {
                                    "0": "The Emperor's Children",
                                    "1": "2006",
                                    "2": "2.93"
                                },
                                {
                                    "0": "The Emperor's Children",
                                    "1": "2006",
                                    "2": "2.93"
                                },
                                {
                                    "0": "The Emperor's Children",
                                    "1": "2006",
                                    "2": "2.93"
                                },
                                {
                                    "0": "The Emperor's Children",
                                    "1": "2006",
                                    "2": "2.93"
                                },
                                {
                                    "0": "The Emperor's Children",
                                    "1": "2006",
                                    "2": "2.93"
                                },
                                {
                                    "0": "The Emperor's Children",
                                    "1": "2006",
                                    "2": "2.93"
                                },
                                {
                                    "0": "The Emperor's Children",
                                    "1": "2006",
                                    "2": "2.93"
                                },
                                {
                                    "0": "The Emperor's Children",
                                    "1": "2006",
                                    "2": "2.93"
                                },
                                {
                                    "0": "The Emperor's Children",
                                    "1": "2006",
                                    "2": "2.93"
                                },
                                {
                                    "0": "The Emperor's Children",
                                    "1": "2006",
                                    "2": "2.93"
                                },
                                {
                                    "0": "The Emperor's Children",
                                    "1": "2006",
                                    "2": "2.93"
                                },
                                {
                                    "0": "The Emperor's Children",
                                    "1": "2006",
                                    "2": "2.93"
                                },
                                {
                                    "0": "The Emperor's Children",
                                    "1": "2006",
                                    "2": "2.93"
                                },
                                {
                                    "0": "The Emperor's Children",
                                    "1": "2006",
                                    "2": "2.93"
                                },
                                {
                                    "0": "The Emperor's Children",
                                    "1": "2006",
                                    "2": "2.93"
                                },
                                {
                                    "0": "The Emperor's Children",
                                    "1": "2006",
                                    "2": "2.93"
                                },
                                {
                                    "0": "The Emperor's Children",
                                    "1": "2006",
                                    "2": "2.93"
                                },
                                {
                                    "0": "The Emperor's Children",
                                    "1": "2006",
                                    "2": "2.93"
                                },
                                {
                                    "0": "The Emperor's Children",
                                    "1": "2006",
                                    "2": "2.93"
                                },
                                {
                                    "0": "The Emperor's Children",
                                    "1": "2006",
                                    "2": "2.93"
                                },
                                {
                                    "0": "The Emperor's Children",
                                    "1": "2006",
                                    "2": "2.93"
                                },
                                {
                                    "0": "The Emperor's Children",
                                    "1": "2006",
                                    "2": "2.93"
                                },
                                {
                                    "0": "The Emperor's Children",
                                    "1": "2006",
                                    "2": "2.93"
                                },
                                {
                                    "0": "The Emperor's Children",
                                    "1": "2006",
                                    "2": "2.93"
                                },
                                {
                                    "0": "The Emperor's Children",
                                    "1": "2006",
                                    "2": "2.93"
                                },
                                {
                                    "0": "The Emperor's Children",
                                    "1": "2006",
                                    "2": "2.93"
                                },
                                {
                                    "0": "The Emperor's Children",
                                    "1": "2006",
                                    "2": "2.93"
                                },
                                {
                                    "0": "The Emperor's Children",
                                    "1": "2006",
                                    "2": "2.93"
                                },
                                {
                                    "0": "The Emperor's Children",
                                    "1": "2006",
                                    "2": "2.93"
                                },
                                {
                                    "0": "The Emperor's Children",
                                    "1": "2006",
                                    "2": "2.93"
                                },
                                {
                                    "0": "Four Blondes",
                                    "1": "2000",
                                    "2": "2.8"
                                },
                                {
                                    "0": "Four Blondes",
                                    "1": "2000",
                                    "2": "2.8"
                                },
                                {
                                    "0": "Four Blondes",
                                    "1": "2000",
                                    "2": "2.8"
                                },
                                {
                                    "0": "Four Blondes",
                                    "1": "2000",
                                    "2": "2.8"
                                },
                                {
                                    "0": "Four Blondes",
                                    "1": "2000",
                                    "2": "2.8"
                                },
                                {
                                    "0": "Four Blondes",
                                    "1": "2000",
                                    "2": "2.8"
                                },
                                {
                                    "0": "Four Blondes",
                                    "1": "2000",
                                    "2": "2.8"
                                },
                                {
                                    "0": "Four Blondes",
                                    "1": "2000",
                                    "2": "2.8"
                                },
                                {
                                    "0": "Four Blondes",
                                    "1": "2000",
                                    "2": "2.8"
                                },
                                {
                                    "0": "Four Blondes",
                                    "1": "2000",
                                    "2": "2.8"
                                },
                                {
                                    "0": "Four Blondes",
                                    "1": "2000",
                                    "2": "2.8"
                                },
                                {
                                    "0": "Four Blondes",
                                    "1": "2000",
                                    "2": "2.8"
                                },
                                {
                                    "0": "Four Blondes",
                                    "1": "2000",
                                    "2": "2.8"
                                },
                                {
                                    "0": "Four Blondes",
                                    "1": "2000",
                                    "2": "2.8"
                                },
                                {
                                    "0": "Four Blondes",
                                    "1": "2000",
                                    "2": "2.8"
                                },
                                {
                                    "0": "Four Blondes",
                                    "1": "2000",
                                    "2": "2.8"
                                },
                                {
                                    "0": "Four Blondes",
                                    "1": "2000",
                                    "2": "2.8"
                                },
                                {
                                    "0": "Four Blondes",
                                    "1": "2000",
                                    "2": "2.8"
                                },
                                {
                                    "0": "Four Blondes",
                                    "1": "2000",
                                    "2": "2.8"
                                },
                                {
                                    "0": "Four Blondes",
                                    "1": "2000",
                                    "2": "2.8"
                                },
                                {
                                    "0": "Four Blondes",
                                    "1": "2000",
                                    "2": "2.8"
                                },
                                {
                                    "0": "Four Blondes",
                                    "1": "2000",
                                    "2": "2.8"
                                },
                                {
                                    "0": "Four Blondes",
                                    "1": "2000",
                                    "2": "2.8"
                                },
                                {
                                    "0": "Four Blondes",
                                    "1": "2000",
                                    "2": "2.8"
                                },
                                {
                                    "0": "Four Blondes",
                                    "1": "2000",
                                    "2": "2.8"
                                },
                                {
                                    "0": "Four Blondes",
                                    "1": "2000",
                                    "2": "2.8"
                                },
                                {
                                    "0": "Four Blondes",
                                    "1": "2000",
                                    "2": "2.8"
                                },
                                {
                                    "0": "Four Blondes",
                                    "1": "2000",
                                    "2": "2.8"
                                },
                                {
                                    "0": "Four Blondes",
                                    "1": "2000",
                                    "2": "2.8"
                                },
                                {
                                    "0": "Four Blondes",
                                    "1": "2000",
                                    "2": "2.8"
                                },
                                {
                                    "0": "Four Blondes",
                                    "1": "2000",
                                    "2": "2.8"
                                },
                                {
                                    "0": "Four Blondes",
                                    "1": "2000",
                                    "2": "2.8"
                                },
                                {
                                    "0": "Four Blondes",
                                    "1": "2000",
                                    "2": "2.8"
                                },
                                {
                                    "0": "Four Blondes",
                                    "1": "2000",
                                    "2": "2.8"
                                },
                                {
                                    "0": "Four Blondes",
                                    "1": "2000",
                                    "2": "2.8"
                                },
                                {
                                    "0": "Four Blondes",
                                    "1": "2000",
                                    "2": "2.8"
                                },
                                {
                                    "0": "Four Blondes",
                                    "1": "2000",
                                    "2": "2.8"
                                },
                                {
                                    "0": "Four Blondes",
                                    "1": "2000",
                                    "2": "2.8"
                                },
                                {
                                    "0": "Four Blondes",
                                    "1": "2000",
                                    "2": "2.8"
                                },
                                {
                                    "0": "Four Blondes",
                                    "1": "2000",
                                    "2": "2.8"
                                },
                                {
                                    "0": "Four Blondes",
                                    "1": "2000",
                                    "2": "2.8"
                                },
                                {
                                    "0": "Four Blondes",
                                    "1": "2000",
                                    "2": "2.8"
                                },
                                {
                                    "0": "Four Blondes",
                                    "1": "2000",
                                    "2": "2.8"
                                },
                                {
                                    "0": "Four Blondes",
                                    "1": "2000",
                                    "2": "2.8"
                                },
                                {
                                    "0": "Four Blondes",
                                    "1": "2000",
                                    "2": "2.8"
                                },
                                {
                                    "0": "Four Blondes",
                                    "1": "2000",
                                    "2": "2.8"
                                },
                                {
                                    "0": "Four Blondes",
                                    "1": "2000",
                                    "2": "2.8"
                                },
                                {
                                    "0": "Four Blondes",
                                    "1": "2000",
                                    "2": "2.8"
                                },
                                {
                                    "0": "Four Blondes",
                                    "1": "2000",
                                    "2": "2.8"
                                },
                                {
                                    "0": "Four Blondes",
                                    "1": "2000",
                                    "2": "2.8"
                                },
                                {
                                    "0": "Four Blondes",
                                    "1": "2000",
                                    "2": "2.8"
                                },
                                {
                                    "0": "Four Blondes",
                                    "1": "2000",
                                    "2": "2.8"
                                },
                                {
                                    "0": "Four Blondes",
                                    "1": "2000",
                                    "2": "2.8"
                                },
                                {
                                    "0": "Four Blondes",
                                    "1": "2000",
                                    "2": "2.8"
                                },
                                {
                                    "0": "Four Blondes",
                                    "1": "2000",
                                    "2": "2.8"
                                },
                                {
                                    "0": "Four Blondes",
                                    "1": "2000",
                                    "2": "2.8"
                                },
                                {
                                    "0": "Four Blondes",
                                    "1": "2000",
                                    "2": "2.8"
                                },
                                {
                                    "0": "Four Blondes",
                                    "1": "2000",
                                    "2": "2.8"
                                },
                                {
                                    "0": "Four Blondes",
                                    "1": "2000",
                                    "2": "2.8"
                                },
                                {
                                    "0": "Four Blondes",
                                    "1": "2000",
                                    "2": "2.8"
                                },
                                {
                                    "0": "Four Blondes",
                                    "1": "2000",
                                    "2": "2.8"
                                },
                                {
                                    "0": "Four Blondes",
                                    "1": "2000",
                                    "2": "2.8"
                                },
                                {
                                    "0": "Four Blondes",
                                    "1": "2000",
                                    "2": "2.8"
                                },
                                {
                                    "0": "Four Blondes",
                                    "1": "2000",
                                    "2": "2.8"
                                },
                                {
                                    "0": "Four Blondes",
                                    "1": "2000",
                                    "2": "2.8"
                                },
                                {
                                    "0": "Four Blondes",
                                    "1": "2000",
                                    "2": "2.8"
                                },
                                {
                                    "0": "Four Blondes",
                                    "1": "2000",
                                    "2": "2.8"
                                },
                                {
                                    "0": "Four Blondes",
                                    "1": "2000",
                                    "2": "2.8"
                                },
                                {
                                    "0": "Four Blondes",
                                    "1": "2000",
                                    "2": "2.8"
                                },
                                {
                                    "0": "Four Blondes",
                                    "1": "2000",
                                    "2": "2.8"
                                },
                                {
                                    "0": "Four Blondes",
                                    "1": "2000",
                                    "2": "2.8"
                                },
                                {
                                    "0": "Four Blondes",
                                    "1": "2000",
                                    "2": "2.8"
                                },
                                {
                                    "0": "Four Blondes",
                                    "1": "2000",
                                    "2": "2.8"
                                },
                                {
                                    "0": "Four Blondes",
                                    "1": "2000",
                                    "2": "2.8"
                                },
                                {
                                    "0": "Four Blondes",
                                    "1": "2000",
                                    "2": "2.8"
                                },
                                {
                                    "0": "Four Blondes",
                                    "1": "2000",
                                    "2": "2.8"
                                },
                                {
                                    "0": "Four Blondes",
                                    "1": "2000",
                                    "2": "2.8"
                                },
                                {
                                    "0": "Four Blondes",
                                    "1": "2000",
                                    "2": "2.8"
                                },
                                {
                                    "0": "Four Blondes",
                                    "1": "2000",
                                    "2": "2.8"
                                },
                                {
                                    "0": "Four Blondes",
                                    "1": "2000",
                                    "2": "2.8"
                                },
                                {
                                    "0": "Four Blondes",
                                    "1": "2000",
                                    "2": "2.8"
                                },
                                {
                                    "0": "Four Blondes",
                                    "1": "2000",
                                    "2": "2.8"
                                },
                                {
                                    "0": "Four Blondes",
                                    "1": "2000",
                                    "2": "2.8"
                                },
                                {
                                    "0": "Four Blondes",
                                    "1": "2000",
                                    "2": "2.8"
                                },
                                {
                                    "0": "Four Blondes",
                                    "1": "2000",
                                    "2": "2.8"
                                },
                                {
                                    "0": "Four Blondes",
                                    "1": "2000",
                                    "2": "2.8"
                                },
                                {
                                    "0": "Four Blondes",
                                    "1": "2000",
                                    "2": "2.8"
                                },
                                {
                                    "0": "Four Blondes",
                                    "1": "2000",
                                    "2": "2.8"
                                },
                                {
                                    "0": "Four Blondes",
                                    "1": "2000",
                                    "2": "2.8"
                                },
                                {
                                    "0": "Four Blondes",
                                    "1": "2000",
                                    "2": "2.8"
                                },
                                {
                                    "0": "Four Blondes",
                                    "1": "2000",
                                    "2": "2.8"
                                },
                                {
                                    "0": "Four Blondes",
                                    "1": "2000",
                                    "2": "2.8"
                                },
                                {
                                    "0": "Four Blondes",
                                    "1": "2000",
                                    "2": "2.8"
                                }
                            ]
                        },
                        "text/html": "<table><tr><th>title</th><th>original_publication_year</th><th>average_rating</th></tr><tr><td>The Emperor's Children</td><td>2006</td><td>2.93</td></tr><tr><td>The Emperor's Children</td><td>2006</td><td>2.93</td></tr><tr><td>The Emperor's Children</td><td>2006</td><td>2.93</td></tr><tr><td>The Emperor's Children</td><td>2006</td><td>2.93</td></tr><tr><td>The Emperor's Children</td><td>2006</td><td>2.93</td></tr><tr><td>The Emperor's Children</td><td>2006</td><td>2.93</td></tr><tr><td>The Emperor's Children</td><td>2006</td><td>2.93</td></tr><tr><td>The Emperor's Children</td><td>2006</td><td>2.93</td></tr><tr><td>The Emperor's Children</td><td>2006</td><td>2.93</td></tr><tr><td>The Emperor's Children</td><td>2006</td><td>2.93</td></tr><tr><td>The Emperor's Children</td><td>2006</td><td>2.93</td></tr><tr><td>The Emperor's Children</td><td>2006</td><td>2.93</td></tr><tr><td>The Emperor's Children</td><td>2006</td><td>2.93</td></tr><tr><td>The Emperor's Children</td><td>2006</td><td>2.93</td></tr><tr><td>The Emperor's Children</td><td>2006</td><td>2.93</td></tr><tr><td>The Emperor's Children</td><td>2006</td><td>2.93</td></tr><tr><td>The Emperor's Children</td><td>2006</td><td>2.93</td></tr><tr><td>The Emperor's Children</td><td>2006</td><td>2.93</td></tr><tr><td>The Emperor's Children</td><td>2006</td><td>2.93</td></tr><tr><td>The Emperor's Children</td><td>2006</td><td>2.93</td></tr><tr><td>The Emperor's Children</td><td>2006</td><td>2.93</td></tr><tr><td>The Emperor's Children</td><td>2006</td><td>2.93</td></tr><tr><td>The Emperor's Children</td><td>2006</td><td>2.93</td></tr><tr><td>The Emperor's Children</td><td>2006</td><td>2.93</td></tr><tr><td>The Emperor's Children</td><td>2006</td><td>2.93</td></tr><tr><td>The Emperor's Children</td><td>2006</td><td>2.93</td></tr><tr><td>The Emperor's Children</td><td>2006</td><td>2.93</td></tr><tr><td>The Emperor's Children</td><td>2006</td><td>2.93</td></tr><tr><td>The Emperor's Children</td><td>2006</td><td>2.93</td></tr><tr><td>The Emperor's Children</td><td>2006</td><td>2.93</td></tr><tr><td>The Emperor's Children</td><td>2006</td><td>2.93</td></tr><tr><td>The Emperor's Children</td><td>2006</td><td>2.93</td></tr><tr><td>The Emperor's Children</td><td>2006</td><td>2.93</td></tr><tr><td>The Emperor's Children</td><td>2006</td><td>2.93</td></tr><tr><td>The Emperor's Children</td><td>2006</td><td>2.93</td></tr><tr><td>The Emperor's Children</td><td>2006</td><td>2.93</td></tr><tr><td>The Emperor's Children</td><td>2006</td><td>2.93</td></tr><tr><td>The Emperor's Children</td><td>2006</td><td>2.93</td></tr><tr><td>The Emperor's Children</td><td>2006</td><td>2.93</td></tr><tr><td>The Emperor's Children</td><td>2006</td><td>2.93</td></tr><tr><td>The Emperor's Children</td><td>2006</td><td>2.93</td></tr><tr><td>The Emperor's Children</td><td>2006</td><td>2.93</td></tr><tr><td>The Emperor's Children</td><td>2006</td><td>2.93</td></tr><tr><td>The Emperor's Children</td><td>2006</td><td>2.93</td></tr><tr><td>The Emperor's Children</td><td>2006</td><td>2.93</td></tr><tr><td>The Emperor's Children</td><td>2006</td><td>2.93</td></tr><tr><td>The Emperor's Children</td><td>2006</td><td>2.93</td></tr><tr><td>The Emperor's Children</td><td>2006</td><td>2.93</td></tr><tr><td>The Emperor's Children</td><td>2006</td><td>2.93</td></tr><tr><td>The Emperor's Children</td><td>2006</td><td>2.93</td></tr><tr><td>The Emperor's Children</td><td>2006</td><td>2.93</td></tr><tr><td>The Emperor's Children</td><td>2006</td><td>2.93</td></tr><tr><td>The Emperor's Children</td><td>2006</td><td>2.93</td></tr><tr><td>The Emperor's Children</td><td>2006</td><td>2.93</td></tr><tr><td>The Emperor's Children</td><td>2006</td><td>2.93</td></tr><tr><td>The Emperor's Children</td><td>2006</td><td>2.93</td></tr><tr><td>The Emperor's Children</td><td>2006</td><td>2.93</td></tr><tr><td>The Emperor's Children</td><td>2006</td><td>2.93</td></tr><tr><td>The Emperor's Children</td><td>2006</td><td>2.93</td></tr><tr><td>The Emperor's Children</td><td>2006</td><td>2.93</td></tr><tr><td>The Emperor's Children</td><td>2006</td><td>2.93</td></tr><tr><td>The Emperor's Children</td><td>2006</td><td>2.93</td></tr><tr><td>The Emperor's Children</td><td>2006</td><td>2.93</td></tr><tr><td>The Emperor's Children</td><td>2006</td><td>2.93</td></tr><tr><td>The Emperor's Children</td><td>2006</td><td>2.93</td></tr><tr><td>The Emperor's Children</td><td>2006</td><td>2.93</td></tr><tr><td>The Emperor's Children</td><td>2006</td><td>2.93</td></tr><tr><td>The Emperor's Children</td><td>2006</td><td>2.93</td></tr><tr><td>The Emperor's Children</td><td>2006</td><td>2.93</td></tr><tr><td>The Emperor's Children</td><td>2006</td><td>2.93</td></tr><tr><td>The Emperor's Children</td><td>2006</td><td>2.93</td></tr><tr><td>The Emperor's Children</td><td>2006</td><td>2.93</td></tr><tr><td>The Emperor's Children</td><td>2006</td><td>2.93</td></tr><tr><td>The Emperor's Children</td><td>2006</td><td>2.93</td></tr><tr><td>The Emperor's Children</td><td>2006</td><td>2.93</td></tr><tr><td>The Emperor's Children</td><td>2006</td><td>2.93</td></tr><tr><td>The Emperor's Children</td><td>2006</td><td>2.93</td></tr><tr><td>The Emperor's Children</td><td>2006</td><td>2.93</td></tr><tr><td>The Emperor's Children</td><td>2006</td><td>2.93</td></tr><tr><td>The Emperor's Children</td><td>2006</td><td>2.93</td></tr><tr><td>The Emperor's Children</td><td>2006</td><td>2.93</td></tr><tr><td>The Emperor's Children</td><td>2006</td><td>2.93</td></tr><tr><td>The Emperor's Children</td><td>2006</td><td>2.93</td></tr><tr><td>The Emperor's Children</td><td>2006</td><td>2.93</td></tr><tr><td>The Emperor's Children</td><td>2006</td><td>2.93</td></tr><tr><td>The Emperor's Children</td><td>2006</td><td>2.93</td></tr><tr><td>The Emperor's Children</td><td>2006</td><td>2.93</td></tr><tr><td>The Emperor's Children</td><td>2006</td><td>2.93</td></tr><tr><td>The Emperor's Children</td><td>2006</td><td>2.93</td></tr><tr><td>The Emperor's Children</td><td>2006</td><td>2.93</td></tr><tr><td>The Emperor's Children</td><td>2006</td><td>2.93</td></tr><tr><td>The Emperor's Children</td><td>2006</td><td>2.93</td></tr><tr><td>The Emperor's Children</td><td>2006</td><td>2.93</td></tr><tr><td>The Emperor's Children</td><td>2006</td><td>2.93</td></tr><tr><td>The Emperor's Children</td><td>2006</td><td>2.93</td></tr><tr><td>The Emperor's Children</td><td>2006</td><td>2.93</td></tr><tr><td>The Emperor's Children</td><td>2006</td><td>2.93</td></tr><tr><td>The Emperor's Children</td><td>2006</td><td>2.93</td></tr><tr><td>The Emperor's Children</td><td>2006</td><td>2.93</td></tr><tr><td>The Emperor's Children</td><td>2006</td><td>2.93</td></tr><tr><td>Four Blondes</td><td>2000</td><td>2.8</td></tr><tr><td>Four Blondes</td><td>2000</td><td>2.8</td></tr><tr><td>Four Blondes</td><td>2000</td><td>2.8</td></tr><tr><td>Four Blondes</td><td>2000</td><td>2.8</td></tr><tr><td>Four Blondes</td><td>2000</td><td>2.8</td></tr><tr><td>Four Blondes</td><td>2000</td><td>2.8</td></tr><tr><td>Four Blondes</td><td>2000</td><td>2.8</td></tr><tr><td>Four Blondes</td><td>2000</td><td>2.8</td></tr><tr><td>Four Blondes</td><td>2000</td><td>2.8</td></tr><tr><td>Four Blondes</td><td>2000</td><td>2.8</td></tr><tr><td>Four Blondes</td><td>2000</td><td>2.8</td></tr><tr><td>Four Blondes</td><td>2000</td><td>2.8</td></tr><tr><td>Four Blondes</td><td>2000</td><td>2.8</td></tr><tr><td>Four Blondes</td><td>2000</td><td>2.8</td></tr><tr><td>Four Blondes</td><td>2000</td><td>2.8</td></tr><tr><td>Four Blondes</td><td>2000</td><td>2.8</td></tr><tr><td>Four Blondes</td><td>2000</td><td>2.8</td></tr><tr><td>Four Blondes</td><td>2000</td><td>2.8</td></tr><tr><td>Four Blondes</td><td>2000</td><td>2.8</td></tr><tr><td>Four Blondes</td><td>2000</td><td>2.8</td></tr><tr><td>Four Blondes</td><td>2000</td><td>2.8</td></tr><tr><td>Four Blondes</td><td>2000</td><td>2.8</td></tr><tr><td>Four Blondes</td><td>2000</td><td>2.8</td></tr><tr><td>Four Blondes</td><td>2000</td><td>2.8</td></tr><tr><td>Four Blondes</td><td>2000</td><td>2.8</td></tr><tr><td>Four Blondes</td><td>2000</td><td>2.8</td></tr><tr><td>Four Blondes</td><td>2000</td><td>2.8</td></tr><tr><td>Four Blondes</td><td>2000</td><td>2.8</td></tr><tr><td>Four Blondes</td><td>2000</td><td>2.8</td></tr><tr><td>Four Blondes</td><td>2000</td><td>2.8</td></tr><tr><td>Four Blondes</td><td>2000</td><td>2.8</td></tr><tr><td>Four Blondes</td><td>2000</td><td>2.8</td></tr><tr><td>Four Blondes</td><td>2000</td><td>2.8</td></tr><tr><td>Four Blondes</td><td>2000</td><td>2.8</td></tr><tr><td>Four Blondes</td><td>2000</td><td>2.8</td></tr><tr><td>Four Blondes</td><td>2000</td><td>2.8</td></tr><tr><td>Four Blondes</td><td>2000</td><td>2.8</td></tr><tr><td>Four Blondes</td><td>2000</td><td>2.8</td></tr><tr><td>Four Blondes</td><td>2000</td><td>2.8</td></tr><tr><td>Four Blondes</td><td>2000</td><td>2.8</td></tr><tr><td>Four Blondes</td><td>2000</td><td>2.8</td></tr><tr><td>Four Blondes</td><td>2000</td><td>2.8</td></tr><tr><td>Four Blondes</td><td>2000</td><td>2.8</td></tr><tr><td>Four Blondes</td><td>2000</td><td>2.8</td></tr><tr><td>Four Blondes</td><td>2000</td><td>2.8</td></tr><tr><td>Four Blondes</td><td>2000</td><td>2.8</td></tr><tr><td>Four Blondes</td><td>2000</td><td>2.8</td></tr><tr><td>Four Blondes</td><td>2000</td><td>2.8</td></tr><tr><td>Four Blondes</td><td>2000</td><td>2.8</td></tr><tr><td>Four Blondes</td><td>2000</td><td>2.8</td></tr><tr><td>Four Blondes</td><td>2000</td><td>2.8</td></tr><tr><td>Four Blondes</td><td>2000</td><td>2.8</td></tr><tr><td>Four Blondes</td><td>2000</td><td>2.8</td></tr><tr><td>Four Blondes</td><td>2000</td><td>2.8</td></tr><tr><td>Four Blondes</td><td>2000</td><td>2.8</td></tr><tr><td>Four Blondes</td><td>2000</td><td>2.8</td></tr><tr><td>Four Blondes</td><td>2000</td><td>2.8</td></tr><tr><td>Four Blondes</td><td>2000</td><td>2.8</td></tr><tr><td>Four Blondes</td><td>2000</td><td>2.8</td></tr><tr><td>Four Blondes</td><td>2000</td><td>2.8</td></tr><tr><td>Four Blondes</td><td>2000</td><td>2.8</td></tr><tr><td>Four Blondes</td><td>2000</td><td>2.8</td></tr><tr><td>Four Blondes</td><td>2000</td><td>2.8</td></tr><tr><td>Four Blondes</td><td>2000</td><td>2.8</td></tr><tr><td>Four Blondes</td><td>2000</td><td>2.8</td></tr><tr><td>Four Blondes</td><td>2000</td><td>2.8</td></tr><tr><td>Four Blondes</td><td>2000</td><td>2.8</td></tr><tr><td>Four Blondes</td><td>2000</td><td>2.8</td></tr><tr><td>Four Blondes</td><td>2000</td><td>2.8</td></tr><tr><td>Four Blondes</td><td>2000</td><td>2.8</td></tr><tr><td>Four Blondes</td><td>2000</td><td>2.8</td></tr><tr><td>Four Blondes</td><td>2000</td><td>2.8</td></tr><tr><td>Four Blondes</td><td>2000</td><td>2.8</td></tr><tr><td>Four Blondes</td><td>2000</td><td>2.8</td></tr><tr><td>Four Blondes</td><td>2000</td><td>2.8</td></tr><tr><td>Four Blondes</td><td>2000</td><td>2.8</td></tr><tr><td>Four Blondes</td><td>2000</td><td>2.8</td></tr><tr><td>Four Blondes</td><td>2000</td><td>2.8</td></tr><tr><td>Four Blondes</td><td>2000</td><td>2.8</td></tr><tr><td>Four Blondes</td><td>2000</td><td>2.8</td></tr><tr><td>Four Blondes</td><td>2000</td><td>2.8</td></tr><tr><td>Four Blondes</td><td>2000</td><td>2.8</td></tr><tr><td>Four Blondes</td><td>2000</td><td>2.8</td></tr><tr><td>Four Blondes</td><td>2000</td><td>2.8</td></tr><tr><td>Four Blondes</td><td>2000</td><td>2.8</td></tr><tr><td>Four Blondes</td><td>2000</td><td>2.8</td></tr><tr><td>Four Blondes</td><td>2000</td><td>2.8</td></tr><tr><td>Four Blondes</td><td>2000</td><td>2.8</td></tr><tr><td>Four Blondes</td><td>2000</td><td>2.8</td></tr><tr><td>Four Blondes</td><td>2000</td><td>2.8</td></tr><tr><td>Four Blondes</td><td>2000</td><td>2.8</td></tr><tr><td>Four Blondes</td><td>2000</td><td>2.8</td></tr><tr><td>Four Blondes</td><td>2000</td><td>2.8</td></tr></table>"
                    },
                    "metadata": {}
                }
            ],
            "execution_count": 25
        },
        {
            "cell_type": "code",
            "source": [
                ""
            ],
            "metadata": {
                "language": "sql",
                "azdata_cell_guid": "44dab026-7335-4f05-a338-210eb24a4514"
            },
            "outputs": [],
            "execution_count": null
        }
    ]
}